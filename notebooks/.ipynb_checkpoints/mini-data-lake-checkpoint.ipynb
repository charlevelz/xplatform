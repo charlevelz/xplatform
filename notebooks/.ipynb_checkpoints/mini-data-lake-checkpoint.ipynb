{
 "cells": [
  {
   "cell_type": "code",
   "execution_count": 1,
   "id": "returning-saint",
   "metadata": {},
   "outputs": [],
   "source": [
    "from pyspark import SparkConf, SparkContext\n",
    "from pyspark.sql import SparkSession\n",
    "from pyspark.sql import *\n",
    "from pyspark.sql.types import *\n",
    "from pyspark.sql.functions import udf\n",
    "from pyspark.sql.functions import *\n",
    "from pyspark.sql.window import Window\n",
    "NoneType = type(None)\n",
    "import os\n",
    "import socket\n",
    "import hashlib\n",
    "import string\n",
    "\n",
    "import time\n",
    "from osgeo import ogr\n",
    "import geopandas as gpd\n",
    "from pyspark.sql import SparkSession\n",
    "from sedona.register import SedonaRegistrator\n",
    "from sedona.utils import SedonaKryoRegistrator, KryoSerializer"
   ]
  },
  {
   "cell_type": "code",
   "execution_count": 2,
   "id": "fifty-casting",
   "metadata": {},
   "outputs": [],
   "source": [
    "def createMd5(text):\n",
    "    return hashlib.md5(text.encode('utf-8')).hexdigest()\n",
    "md5Udf= udf(lambda z: createMd5(z),StringType())\n",
    "\n",
    "def clean_lower(text):\n",
    "    sentence = text.translate(str.maketrans('', '', '!\"#$%&\\'()*+,./:;<=>?@[\\\\]^`{|}~-_”“«»‘')).lower()\n",
    "    return \" \".join(sentence.split())\n",
    "cleanLowerUdf= udf(lambda z: clean_lower(z),StringType())\n",
    "\n",
    "def get_site_from_url(text):\n",
    "    return text.split(\"/\")[2]\n",
    "getUrl= udf(lambda z: get_site_from_url(z),StringType())    \n"
   ]
  },
  {
   "cell_type": "code",
   "execution_count": 6,
   "id": "fixed-denver",
   "metadata": {},
   "outputs": [
    {
     "data": {
      "text/plain": [
       "True"
      ]
     },
     "execution_count": 6,
     "metadata": {},
     "output_type": "execute_result"
    }
   ],
   "source": [
    "minio_ip = socket.gethostbyname('minio')\n",
    "spark = SparkSession. \\\n",
    "    builder. \\\n",
    "    appName(\"Python Spark S3\"). \\\n",
    "    config(\"spark.serializer\", KryoSerializer.getName). \\\n",
    "    config(\"spark.executor.memory\", \"80g\"). \\\n",
    "    config(\"spark.driver.memory\", \"80g\"). \\\n",
    "    config('spark.dirver.maxResultSize', '5g'). \\\n",
    "    config(\"spark.kryo.registrator\", SedonaKryoRegistrator.getName). \\\n",
    "    config('spark.hadoop.fs.s3a.endpoint', 'http://'+minio_ip+':9000'). \\\n",
    "    config(\"spark.hadoop.fs.s3a.access.key\", \"minio-access-key\"). \\\n",
    "    config(\"spark.hadoop.fs.s3a.secret.key\", \"minio-secret-key\"). \\\n",
    "    config('spark.hadoop.fs.s3a.impl', 'org.apache.hadoop.fs.s3a.S3AFileSystem'). \\\n",
    "    config('spark.jars.packages',\n",
    "           'org.apache.sedona:sedona-python-adapter-3.0_2.12:1.0.0-incubating,org.datasyslab:geotools-wrapper:geotools-24.0'). \\\n",
    "    getOrCreate()\n",
    "SedonaRegistrator.registerAll(spark)"
   ]
  },
  {
   "cell_type": "code",
   "execution_count": 7,
   "id": "chief-orange",
   "metadata": {},
   "outputs": [],
   "source": [
    "\n",
    "st= StructType([\n",
    "    StructField(\"abstract\", StringType()),\n",
    "    StructField(\"authors\", StringType()),\n",
    "    StructField(\"image\", StringType()),\n",
    "    StructField(\"metadata\", StringType()),\n",
    "    StructField(\"publish_date\", TimestampType()),\n",
    "    StructField(\"text\", StringType()),\n",
    "    StructField(\"title\", StringType()),\n",
    "    StructField(\"url\", StringType()),\n",
    "])"
   ]
  },
  {
   "cell_type": "code",
   "execution_count": 8,
   "id": "featured-collect",
   "metadata": {},
   "outputs": [],
   "source": [
    "df_news_covid_mexico = spark.read.schema(st).option(\"timestampFormat\", \"dd-MM-yyyy\").json(\"s3a://news/covid_mexico/*.json\")"
   ]
  },
  {
   "cell_type": "code",
   "execution_count": 9,
   "id": "olympic-marina",
   "metadata": {},
   "outputs": [
    {
     "data": {
      "text/plain": [
       "2105"
      ]
     },
     "execution_count": 9,
     "metadata": {},
     "output_type": "execute_result"
    }
   ],
   "source": [
    "df_news_covid_mexico.count()"
   ]
  },
  {
   "cell_type": "code",
   "execution_count": 10,
   "id": "better-mailing",
   "metadata": {},
   "outputs": [
    {
     "name": "stdout",
     "output_type": "stream",
     "text": [
      "root\n",
      " |-- abstract: string (nullable = true)\n",
      " |-- authors: string (nullable = true)\n",
      " |-- image: string (nullable = true)\n",
      " |-- metadata: string (nullable = true)\n",
      " |-- publish_date: timestamp (nullable = true)\n",
      " |-- text: string (nullable = true)\n",
      " |-- title: string (nullable = true)\n",
      " |-- url: string (nullable = true)\n",
      "\n"
     ]
    }
   ],
   "source": [
    "df_news_covid_mexico.printSchema()"
   ]
  },
  {
   "cell_type": "code",
   "execution_count": 13,
   "id": "swiss-monkey",
   "metadata": {},
   "outputs": [
    {
     "name": "stdout",
     "output_type": "stream",
     "text": [
      "+--------------------+--------------------+--------------------+--------------------+-------------------+--------------------+--------------------+--------------------+\n",
      "|            abstract|             authors|               image|            metadata|       publish_date|                text|               title|                 url|\n",
      "+--------------------+--------------------+--------------------+--------------------+-------------------+--------------------+--------------------+--------------------+\n",
      "|Caída del peso y ...|     Milenio Digital|https://www.milen...|Milenio.com, 29 m...|2020-03-29 00:00:00|Milenio Digital  ...|Caída del peso y ...|https://www.milen...|\n",
      "|La Secretaría de ...|Fernando Damián;M...|https://www.milen...|Milenio.com, 29 m...|2020-03-29 00:00:00|Fernando Damián, ...|Coronavirus en Mé...|https://www.milen...|\n",
      "|Han muerto 20 per...|Milenio Digital Y...|https://www.milen...|Milenio.com, 29 m...|2020-03-29 00:00:00|Milenio Digital y...|Coronavirus en Mé...|https://www.milen...|\n",
      "|Al menos 16 médic...|Foto;Cuartoscuro ...|https://cdn-3.exp...|Expansión, 29 mar...|2020-03-29 00:00:00|De la 1 a la 3, c...|El gobernador de ...|https://politica....|\n",
      "|#Testimonio | \"En...|Foto;Jimena Garcí...|https://cdn-3.exp...|Expansión, 29 mar...|2020-03-29 00:00:00|La joven llegó a ...|#Testimonio | \"En...|https://politica....|\n",
      "|México rebasó los...|Foto;Cuartoscuro ...|https://cdn-3.exp...|ADNPolítico, 9 ju...|2020-07-09 00:00:00|Con estas últimas...|México confirma m...|https://politica....|\n",
      "|Jeanine Añez info...|        Forbes Staff|https://cdn.forbe...|Forbes Mexico, 9 ...|2020-07-09 00:00:00|Reuters.- La pres...|Presidenta de Bol...|https://www.forbe...|\n",
      "|El reporte agrega...|Por Abel Alvarado...|https://cnnespano...|    CNN, 9 jul. 2020|2020-07-09 00:00:00|Los casos confirm...|Coronavirus 9 de ...|https://cnnespano...|\n",
      "|... de México rea...|    Alfredo Estrella|https://as01.epim...|AS Mexico, 9 jul....|2020-07-07 00:00:00|Los centros comer...|Centros comercial...|https://mexico.as...|\n",
      "|En MARCA Claro te...|                    |https://e00-marca...|Marca Claro Méxic...|2020-07-09 00:00:00|Coronavirus Méxic...|Coronavirus Méxic...|https://www.marca...|\n",
      "+--------------------+--------------------+--------------------+--------------------+-------------------+--------------------+--------------------+--------------------+\n",
      "only showing top 10 rows\n",
      "\n"
     ]
    }
   ],
   "source": [
    "df_news_covid_mexico.show(10)"
   ]
  },
  {
   "cell_type": "code",
   "execution_count": 16,
   "id": "unlimited-reality",
   "metadata": {},
   "outputs": [],
   "source": [
    "df_news_covid_mexico_date_text = df_news_covid_mexico.select(md5Udf(\"url\").alias(\"article_id\"),\"title\",\"url\",\"publish_date\",cleanLowerUdf(\"text\").alias(\"clean_text\"),getUrl(\"url\").alias(\"site\")).filter(\"length(text) >= 2\")"
   ]
  },
  {
   "cell_type": "code",
   "execution_count": 17,
   "id": "related-courtesy",
   "metadata": {},
   "outputs": [
    {
     "name": "stdout",
     "output_type": "stream",
     "text": [
      "+--------------------+--------------------+--------------------+-------------------+--------------------+--------------------+\n",
      "|          article_id|               title|                 url|       publish_date|          clean_text|                site|\n",
      "+--------------------+--------------------+--------------------+-------------------+--------------------+--------------------+\n",
      "|9ce703a7bf3423248...|Caída del peso y ...|https://www.milen...|2020-03-29 00:00:00|milenio digital l...|     www.milenio.com|\n",
      "|cdd17bbabcd40bb3b...|Coronavirus en Mé...|https://www.milen...|2020-03-29 00:00:00|fernando damián m...|     www.milenio.com|\n",
      "|cf44530bae9e92f21...|Coronavirus en Mé...|https://www.milen...|2020-03-29 00:00:00|milenio digital y...|     www.milenio.com|\n",
      "|a1625d0cc6177f2f0...|El gobernador de ...|https://politica....|2020-03-29 00:00:00|de la 1 a la 3 co...|politica.expansio...|\n",
      "|4f093d45e3e2bbc68...|#Testimonio | \"En...|https://politica....|2020-03-29 00:00:00|la joven llegó a ...|politica.expansio...|\n",
      "|681c629f82da0ba33...|México confirma m...|https://politica....|2020-07-09 00:00:00|con estas últimas...|politica.expansio...|\n",
      "|da1f763192882d1b1...|Presidenta de Bol...|https://www.forbe...|2020-07-09 00:00:00|reuters la presid...|   www.forbes.com.mx|\n",
      "|d6388e7872076a342...|Coronavirus 9 de ...|https://cnnespano...|2020-07-09 00:00:00|los casos confirm...|  cnnespanol.cnn.com|\n",
      "|91d801e28a81037ec...|Centros comercial...|https://mexico.as...|2020-07-07 00:00:00|los centros comer...|       mexico.as.com|\n",
      "|b83cdf964da7930fb...|Coronavirus Méxic...|https://www.marca...|2020-07-09 00:00:00|coronavirus méxic...|       www.marca.com|\n",
      "|1ad1348149338c193...|Mexicanos no podr...|https://www.marca...|2020-06-30 00:00:00|mexicanos no podr...|       www.marca.com|\n",
      "|11d8d5675bfc84c1b...|Coronavirus en Mé...|https://mexico.as...|2020-06-30 00:00:00|sobre las manifes...|       mexico.as.com|\n",
      "|8b0cf48512581df5b...|Coronavirus Méxic...|https://www.marca...|2020-06-30 00:00:00|coronavirus méxic...|       www.marca.com|\n",
      "|90b36595ab577c269...|México suma 226,0...|https://www.eleco...|2020-06-30 00:00:00|la secretaría de ...|www.eleconomista....|\n",
      "|17f05252a363bbb81...|Remdesivir no es ...|https://www.forbe...|2020-07-01 00:00:00|la evidencia gene...|   www.forbes.com.mx|\n",
      "+--------------------+--------------------+--------------------+-------------------+--------------------+--------------------+\n",
      "only showing top 15 rows\n",
      "\n"
     ]
    }
   ],
   "source": [
    "df_news_covid_mexico_date_text.show(15)"
   ]
  },
  {
   "cell_type": "code",
   "execution_count": 18,
   "id": "optical-pennsylvania",
   "metadata": {},
   "outputs": [
    {
     "data": {
      "text/plain": [
       "1908"
      ]
     },
     "execution_count": 18,
     "metadata": {},
     "output_type": "execute_result"
    }
   ],
   "source": [
    "df_news_covid_mexico_date_text.count()"
   ]
  },
  {
   "cell_type": "code",
   "execution_count": 20,
   "id": "compound-heating",
   "metadata": {},
   "outputs": [
    {
     "name": "stdout",
     "output_type": "stream",
     "text": [
      "+-------------------------------------------------------------------------------------------------------------------------------+\n",
      "|title                                                                                                                          |\n",
      "+-------------------------------------------------------------------------------------------------------------------------------+\n",
      "|Caída del peso y suspensión de clases: cronología del coronavirus en México                                                    |\n",
      "|Coronavirus en México, noticias del 29 de marzo                                                                                |\n",
      "|Coronavirus en México. Reportan 20 muertes por Covid-19                                                                        |\n",
      "|El gobernador de Coahuila reporta 16 médicos y enfermeras con COVID-19                                                         |\n",
      "|#Testimonio | \"En Perú, la gente no entró en pánico como en México\"                                                            |\n",
      "|México confirma más de 7,000 casos de COVID-19 en un día y alcanza nuevo máximo                                                |\n",
      "|Presidenta de Bolivia da positivo a Covid-19                                                                                   |\n",
      "|Coronavirus 9 de julio, minuto a minuto: Varios países de América Latina están llegando a nuevos picos de infecciones y muertes|\n",
      "|Centros comerciales y tiendas en México: reglas y medidas contra el coronavirus                                                |\n",
      "|Coronavirus México 9 de julio: últimas noticias, contagios y muertes                                                           |\n",
      "|Mexicanos no podrán viajar a Europa hasta nuevo aviso                                                                          |\n",
      "|Coronavirus en México: resumen, casos y muertes del 30 de junio                                                                |\n",
      "|Coronavirus México hoy 30 de junio; resumen de las últimas noticias, contagios y muertes                                       |\n",
      "|México suma 226,089 casos confirmados de Covid-19 y 27,769 fallecimientos                                                      |\n",
      "|Remdesivir no es suficientemente útil contra Covid-19: Lopéz-Gatell                                                            |\n",
      "+-------------------------------------------------------------------------------------------------------------------------------+\n",
      "only showing top 15 rows\n",
      "\n"
     ]
    }
   ],
   "source": [
    "df_news_covid_mexico_date_text.select(\"title\").show(15,False)"
   ]
  },
  {
   "cell_type": "code",
   "execution_count": 24,
   "id": "comparative-seminar",
   "metadata": {},
   "outputs": [],
   "source": [
    "url = \"jdbc:postgresql://postgres/shared\"\n",
    "mode=\"overwrite\"\n",
    "properties = {\n",
    "    \"user\": \"shared\",\n",
    "    \"password\": os.environ['SHARED_PASSWORD']\n",
    "}"
   ]
  },
  {
   "cell_type": "code",
   "execution_count": 23,
   "id": "ideal-colombia",
   "metadata": {},
   "outputs": [],
   "source": [
    "#os.environ['SHARED_PASSWORD']='changeme1234'"
   ]
  },
  {
   "cell_type": "code",
   "execution_count": 25,
   "id": "atomic-operations",
   "metadata": {},
   "outputs": [
    {
     "ename": "Py4JJavaError",
     "evalue": "An error occurred while calling o296.jdbc.\n: java.sql.SQLException: No suitable driver\n\tat java.sql/java.sql.DriverManager.getDriver(DriverManager.java:298)\n\tat org.apache.spark.sql.execution.datasources.jdbc.JDBCOptions.$anonfun$driverClass$2(JDBCOptions.scala:105)\n\tat scala.Option.getOrElse(Option.scala:189)\n\tat org.apache.spark.sql.execution.datasources.jdbc.JDBCOptions.<init>(JDBCOptions.scala:105)\n\tat org.apache.spark.sql.execution.datasources.jdbc.JdbcOptionsInWrite.<init>(JDBCOptions.scala:194)\n\tat org.apache.spark.sql.execution.datasources.jdbc.JdbcOptionsInWrite.<init>(JDBCOptions.scala:198)\n\tat org.apache.spark.sql.execution.datasources.jdbc.JdbcRelationProvider.createRelation(JdbcRelationProvider.scala:45)\n\tat org.apache.spark.sql.execution.datasources.SaveIntoDataSourceCommand.run(SaveIntoDataSourceCommand.scala:46)\n\tat org.apache.spark.sql.execution.command.ExecutedCommandExec.sideEffectResult$lzycompute(commands.scala:70)\n\tat org.apache.spark.sql.execution.command.ExecutedCommandExec.sideEffectResult(commands.scala:68)\n\tat org.apache.spark.sql.execution.command.ExecutedCommandExec.doExecute(commands.scala:90)\n\tat org.apache.spark.sql.execution.SparkPlan.$anonfun$execute$1(SparkPlan.scala:180)\n\tat org.apache.spark.sql.execution.SparkPlan.$anonfun$executeQuery$1(SparkPlan.scala:218)\n\tat org.apache.spark.rdd.RDDOperationScope$.withScope(RDDOperationScope.scala:151)\n\tat org.apache.spark.sql.execution.SparkPlan.executeQuery(SparkPlan.scala:215)\n\tat org.apache.spark.sql.execution.SparkPlan.execute(SparkPlan.scala:176)\n\tat org.apache.spark.sql.execution.QueryExecution.toRdd$lzycompute(QueryExecution.scala:127)\n\tat org.apache.spark.sql.execution.QueryExecution.toRdd(QueryExecution.scala:126)\n\tat org.apache.spark.sql.DataFrameWriter.$anonfun$runCommand$1(DataFrameWriter.scala:962)\n\tat org.apache.spark.sql.execution.SQLExecution$.$anonfun$withNewExecutionId$5(SQLExecution.scala:100)\n\tat org.apache.spark.sql.execution.SQLExecution$.withSQLConfPropagated(SQLExecution.scala:160)\n\tat org.apache.spark.sql.execution.SQLExecution$.$anonfun$withNewExecutionId$1(SQLExecution.scala:87)\n\tat org.apache.spark.sql.SparkSession.withActive(SparkSession.scala:764)\n\tat org.apache.spark.sql.execution.SQLExecution$.withNewExecutionId(SQLExecution.scala:64)\n\tat org.apache.spark.sql.DataFrameWriter.runCommand(DataFrameWriter.scala:962)\n\tat org.apache.spark.sql.DataFrameWriter.saveToV1Source(DataFrameWriter.scala:414)\n\tat org.apache.spark.sql.DataFrameWriter.save(DataFrameWriter.scala:398)\n\tat org.apache.spark.sql.DataFrameWriter.jdbc(DataFrameWriter.scala:790)\n\tat java.base/jdk.internal.reflect.NativeMethodAccessorImpl.invoke0(Native Method)\n\tat java.base/jdk.internal.reflect.NativeMethodAccessorImpl.invoke(NativeMethodAccessorImpl.java:62)\n\tat java.base/jdk.internal.reflect.DelegatingMethodAccessorImpl.invoke(DelegatingMethodAccessorImpl.java:43)\n\tat java.base/java.lang.reflect.Method.invoke(Method.java:566)\n\tat py4j.reflection.MethodInvoker.invoke(MethodInvoker.java:244)\n\tat py4j.reflection.ReflectionEngine.invoke(ReflectionEngine.java:357)\n\tat py4j.Gateway.invoke(Gateway.java:282)\n\tat py4j.commands.AbstractCommand.invokeMethod(AbstractCommand.java:132)\n\tat py4j.commands.CallCommand.execute(CallCommand.java:79)\n\tat py4j.GatewayConnection.run(GatewayConnection.java:238)\n\tat java.base/java.lang.Thread.run(Thread.java:834)\n",
     "output_type": "error",
     "traceback": [
      "\u001b[0;31m---------------------------------------------------------------------------\u001b[0m",
      "\u001b[0;31mPy4JJavaError\u001b[0m                             Traceback (most recent call last)",
      "\u001b[0;32m<ipython-input-25-02d320483335>\u001b[0m in \u001b[0;36m<module>\u001b[0;34m\u001b[0m\n\u001b[0;32m----> 1\u001b[0;31m \u001b[0mdf_news_covid_mexico_date_text\u001b[0m\u001b[0;34m.\u001b[0m\u001b[0mwrite\u001b[0m\u001b[0;34m.\u001b[0m\u001b[0mjdbc\u001b[0m\u001b[0;34m(\u001b[0m\u001b[0murl\u001b[0m\u001b[0;34m=\u001b[0m\u001b[0murl\u001b[0m\u001b[0;34m,\u001b[0m \u001b[0mtable\u001b[0m\u001b[0;34m=\u001b[0m\u001b[0;34m\"tb_news_covid_mexico_date_text\"\u001b[0m\u001b[0;34m,\u001b[0m \u001b[0mmode\u001b[0m\u001b[0;34m=\u001b[0m\u001b[0mmode\u001b[0m\u001b[0;34m,\u001b[0m \u001b[0mproperties\u001b[0m\u001b[0;34m=\u001b[0m\u001b[0mproperties\u001b[0m\u001b[0;34m)\u001b[0m\u001b[0;34m\u001b[0m\u001b[0;34m\u001b[0m\u001b[0m\n\u001b[0m",
      "\u001b[0;32m/usr/local/spark/python/pyspark/sql/readwriter.py\u001b[0m in \u001b[0;36mjdbc\u001b[0;34m(self, url, table, mode, properties)\u001b[0m\n\u001b[1;32m   1083\u001b[0m         \u001b[0;32mfor\u001b[0m \u001b[0mk\u001b[0m \u001b[0;32min\u001b[0m \u001b[0mproperties\u001b[0m\u001b[0;34m:\u001b[0m\u001b[0;34m\u001b[0m\u001b[0;34m\u001b[0m\u001b[0m\n\u001b[1;32m   1084\u001b[0m             \u001b[0mjprop\u001b[0m\u001b[0;34m.\u001b[0m\u001b[0msetProperty\u001b[0m\u001b[0;34m(\u001b[0m\u001b[0mk\u001b[0m\u001b[0;34m,\u001b[0m \u001b[0mproperties\u001b[0m\u001b[0;34m[\u001b[0m\u001b[0mk\u001b[0m\u001b[0;34m]\u001b[0m\u001b[0;34m)\u001b[0m\u001b[0;34m\u001b[0m\u001b[0;34m\u001b[0m\u001b[0m\n\u001b[0;32m-> 1085\u001b[0;31m         \u001b[0mself\u001b[0m\u001b[0;34m.\u001b[0m\u001b[0mmode\u001b[0m\u001b[0;34m(\u001b[0m\u001b[0mmode\u001b[0m\u001b[0;34m)\u001b[0m\u001b[0;34m.\u001b[0m\u001b[0m_jwrite\u001b[0m\u001b[0;34m.\u001b[0m\u001b[0mjdbc\u001b[0m\u001b[0;34m(\u001b[0m\u001b[0murl\u001b[0m\u001b[0;34m,\u001b[0m \u001b[0mtable\u001b[0m\u001b[0;34m,\u001b[0m \u001b[0mjprop\u001b[0m\u001b[0;34m)\u001b[0m\u001b[0;34m\u001b[0m\u001b[0;34m\u001b[0m\u001b[0m\n\u001b[0m\u001b[1;32m   1086\u001b[0m \u001b[0;34m\u001b[0m\u001b[0m\n\u001b[1;32m   1087\u001b[0m \u001b[0;34m\u001b[0m\u001b[0m\n",
      "\u001b[0;32m/usr/local/spark/python/lib/py4j-0.10.9-src.zip/py4j/java_gateway.py\u001b[0m in \u001b[0;36m__call__\u001b[0;34m(self, *args)\u001b[0m\n\u001b[1;32m   1302\u001b[0m \u001b[0;34m\u001b[0m\u001b[0m\n\u001b[1;32m   1303\u001b[0m         \u001b[0manswer\u001b[0m \u001b[0;34m=\u001b[0m \u001b[0mself\u001b[0m\u001b[0;34m.\u001b[0m\u001b[0mgateway_client\u001b[0m\u001b[0;34m.\u001b[0m\u001b[0msend_command\u001b[0m\u001b[0;34m(\u001b[0m\u001b[0mcommand\u001b[0m\u001b[0;34m)\u001b[0m\u001b[0;34m\u001b[0m\u001b[0;34m\u001b[0m\u001b[0m\n\u001b[0;32m-> 1304\u001b[0;31m         return_value = get_return_value(\n\u001b[0m\u001b[1;32m   1305\u001b[0m             answer, self.gateway_client, self.target_id, self.name)\n\u001b[1;32m   1306\u001b[0m \u001b[0;34m\u001b[0m\u001b[0m\n",
      "\u001b[0;32m/usr/local/spark/python/pyspark/sql/utils.py\u001b[0m in \u001b[0;36mdeco\u001b[0;34m(*a, **kw)\u001b[0m\n\u001b[1;32m    126\u001b[0m     \u001b[0;32mdef\u001b[0m \u001b[0mdeco\u001b[0m\u001b[0;34m(\u001b[0m\u001b[0;34m*\u001b[0m\u001b[0ma\u001b[0m\u001b[0;34m,\u001b[0m \u001b[0;34m**\u001b[0m\u001b[0mkw\u001b[0m\u001b[0;34m)\u001b[0m\u001b[0;34m:\u001b[0m\u001b[0;34m\u001b[0m\u001b[0;34m\u001b[0m\u001b[0m\n\u001b[1;32m    127\u001b[0m         \u001b[0;32mtry\u001b[0m\u001b[0;34m:\u001b[0m\u001b[0;34m\u001b[0m\u001b[0;34m\u001b[0m\u001b[0m\n\u001b[0;32m--> 128\u001b[0;31m             \u001b[0;32mreturn\u001b[0m \u001b[0mf\u001b[0m\u001b[0;34m(\u001b[0m\u001b[0;34m*\u001b[0m\u001b[0ma\u001b[0m\u001b[0;34m,\u001b[0m \u001b[0;34m**\u001b[0m\u001b[0mkw\u001b[0m\u001b[0;34m)\u001b[0m\u001b[0;34m\u001b[0m\u001b[0;34m\u001b[0m\u001b[0m\n\u001b[0m\u001b[1;32m    129\u001b[0m         \u001b[0;32mexcept\u001b[0m \u001b[0mpy4j\u001b[0m\u001b[0;34m.\u001b[0m\u001b[0mprotocol\u001b[0m\u001b[0;34m.\u001b[0m\u001b[0mPy4JJavaError\u001b[0m \u001b[0;32mas\u001b[0m \u001b[0me\u001b[0m\u001b[0;34m:\u001b[0m\u001b[0;34m\u001b[0m\u001b[0;34m\u001b[0m\u001b[0m\n\u001b[1;32m    130\u001b[0m             \u001b[0mconverted\u001b[0m \u001b[0;34m=\u001b[0m \u001b[0mconvert_exception\u001b[0m\u001b[0;34m(\u001b[0m\u001b[0me\u001b[0m\u001b[0;34m.\u001b[0m\u001b[0mjava_exception\u001b[0m\u001b[0;34m)\u001b[0m\u001b[0;34m\u001b[0m\u001b[0;34m\u001b[0m\u001b[0m\n",
      "\u001b[0;32m/usr/local/spark/python/lib/py4j-0.10.9-src.zip/py4j/protocol.py\u001b[0m in \u001b[0;36mget_return_value\u001b[0;34m(answer, gateway_client, target_id, name)\u001b[0m\n\u001b[1;32m    324\u001b[0m             \u001b[0mvalue\u001b[0m \u001b[0;34m=\u001b[0m \u001b[0mOUTPUT_CONVERTER\u001b[0m\u001b[0;34m[\u001b[0m\u001b[0mtype\u001b[0m\u001b[0;34m]\u001b[0m\u001b[0;34m(\u001b[0m\u001b[0manswer\u001b[0m\u001b[0;34m[\u001b[0m\u001b[0;36m2\u001b[0m\u001b[0;34m:\u001b[0m\u001b[0;34m]\u001b[0m\u001b[0;34m,\u001b[0m \u001b[0mgateway_client\u001b[0m\u001b[0;34m)\u001b[0m\u001b[0;34m\u001b[0m\u001b[0;34m\u001b[0m\u001b[0m\n\u001b[1;32m    325\u001b[0m             \u001b[0;32mif\u001b[0m \u001b[0manswer\u001b[0m\u001b[0;34m[\u001b[0m\u001b[0;36m1\u001b[0m\u001b[0;34m]\u001b[0m \u001b[0;34m==\u001b[0m \u001b[0mREFERENCE_TYPE\u001b[0m\u001b[0;34m:\u001b[0m\u001b[0;34m\u001b[0m\u001b[0;34m\u001b[0m\u001b[0m\n\u001b[0;32m--> 326\u001b[0;31m                 raise Py4JJavaError(\n\u001b[0m\u001b[1;32m    327\u001b[0m                     \u001b[0;34m\"An error occurred while calling {0}{1}{2}.\\n\"\u001b[0m\u001b[0;34m.\u001b[0m\u001b[0;34m\u001b[0m\u001b[0;34m\u001b[0m\u001b[0m\n\u001b[1;32m    328\u001b[0m                     format(target_id, \".\", name), value)\n",
      "\u001b[0;31mPy4JJavaError\u001b[0m: An error occurred while calling o296.jdbc.\n: java.sql.SQLException: No suitable driver\n\tat java.sql/java.sql.DriverManager.getDriver(DriverManager.java:298)\n\tat org.apache.spark.sql.execution.datasources.jdbc.JDBCOptions.$anonfun$driverClass$2(JDBCOptions.scala:105)\n\tat scala.Option.getOrElse(Option.scala:189)\n\tat org.apache.spark.sql.execution.datasources.jdbc.JDBCOptions.<init>(JDBCOptions.scala:105)\n\tat org.apache.spark.sql.execution.datasources.jdbc.JdbcOptionsInWrite.<init>(JDBCOptions.scala:194)\n\tat org.apache.spark.sql.execution.datasources.jdbc.JdbcOptionsInWrite.<init>(JDBCOptions.scala:198)\n\tat org.apache.spark.sql.execution.datasources.jdbc.JdbcRelationProvider.createRelation(JdbcRelationProvider.scala:45)\n\tat org.apache.spark.sql.execution.datasources.SaveIntoDataSourceCommand.run(SaveIntoDataSourceCommand.scala:46)\n\tat org.apache.spark.sql.execution.command.ExecutedCommandExec.sideEffectResult$lzycompute(commands.scala:70)\n\tat org.apache.spark.sql.execution.command.ExecutedCommandExec.sideEffectResult(commands.scala:68)\n\tat org.apache.spark.sql.execution.command.ExecutedCommandExec.doExecute(commands.scala:90)\n\tat org.apache.spark.sql.execution.SparkPlan.$anonfun$execute$1(SparkPlan.scala:180)\n\tat org.apache.spark.sql.execution.SparkPlan.$anonfun$executeQuery$1(SparkPlan.scala:218)\n\tat org.apache.spark.rdd.RDDOperationScope$.withScope(RDDOperationScope.scala:151)\n\tat org.apache.spark.sql.execution.SparkPlan.executeQuery(SparkPlan.scala:215)\n\tat org.apache.spark.sql.execution.SparkPlan.execute(SparkPlan.scala:176)\n\tat org.apache.spark.sql.execution.QueryExecution.toRdd$lzycompute(QueryExecution.scala:127)\n\tat org.apache.spark.sql.execution.QueryExecution.toRdd(QueryExecution.scala:126)\n\tat org.apache.spark.sql.DataFrameWriter.$anonfun$runCommand$1(DataFrameWriter.scala:962)\n\tat org.apache.spark.sql.execution.SQLExecution$.$anonfun$withNewExecutionId$5(SQLExecution.scala:100)\n\tat org.apache.spark.sql.execution.SQLExecution$.withSQLConfPropagated(SQLExecution.scala:160)\n\tat org.apache.spark.sql.execution.SQLExecution$.$anonfun$withNewExecutionId$1(SQLExecution.scala:87)\n\tat org.apache.spark.sql.SparkSession.withActive(SparkSession.scala:764)\n\tat org.apache.spark.sql.execution.SQLExecution$.withNewExecutionId(SQLExecution.scala:64)\n\tat org.apache.spark.sql.DataFrameWriter.runCommand(DataFrameWriter.scala:962)\n\tat org.apache.spark.sql.DataFrameWriter.saveToV1Source(DataFrameWriter.scala:414)\n\tat org.apache.spark.sql.DataFrameWriter.save(DataFrameWriter.scala:398)\n\tat org.apache.spark.sql.DataFrameWriter.jdbc(DataFrameWriter.scala:790)\n\tat java.base/jdk.internal.reflect.NativeMethodAccessorImpl.invoke0(Native Method)\n\tat java.base/jdk.internal.reflect.NativeMethodAccessorImpl.invoke(NativeMethodAccessorImpl.java:62)\n\tat java.base/jdk.internal.reflect.DelegatingMethodAccessorImpl.invoke(DelegatingMethodAccessorImpl.java:43)\n\tat java.base/java.lang.reflect.Method.invoke(Method.java:566)\n\tat py4j.reflection.MethodInvoker.invoke(MethodInvoker.java:244)\n\tat py4j.reflection.ReflectionEngine.invoke(ReflectionEngine.java:357)\n\tat py4j.Gateway.invoke(Gateway.java:282)\n\tat py4j.commands.AbstractCommand.invokeMethod(AbstractCommand.java:132)\n\tat py4j.commands.CallCommand.execute(CallCommand.java:79)\n\tat py4j.GatewayConnection.run(GatewayConnection.java:238)\n\tat java.base/java.lang.Thread.run(Thread.java:834)\n"
     ]
    }
   ],
   "source": [
    "df_news_covid_mexico_date_text.write.jdbc(url=url, table=\"tb_news_covid_mexico_date_text\", mode=mode, properties=properties)"
   ]
  },
  {
   "cell_type": "code",
   "execution_count": null,
   "id": "informal-transmission",
   "metadata": {},
   "outputs": [],
   "source": []
  }
 ],
 "metadata": {
  "kernelspec": {
   "display_name": "Python 3",
   "language": "python",
   "name": "python3"
  },
  "language_info": {
   "codemirror_mode": {
    "name": "ipython",
    "version": 3
   },
   "file_extension": ".py",
   "mimetype": "text/x-python",
   "name": "python",
   "nbconvert_exporter": "python",
   "pygments_lexer": "ipython3",
   "version": "3.8.8"
  }
 },
 "nbformat": 4,
 "nbformat_minor": 5
}
