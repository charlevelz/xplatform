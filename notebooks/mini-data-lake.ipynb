{
 "cells": [
  {
   "cell_type": "code",
   "execution_count": 1,
   "id": "arabic-arbor",
   "metadata": {},
   "outputs": [],
   "source": [
    "from pyspark import SparkConf, SparkContext\n",
    "from pyspark.sql import SparkSession\n",
    "from pyspark.sql import *\n",
    "from pyspark.sql.types import *\n",
    "from pyspark.sql.functions import udf\n",
    "from pyspark.sql.functions import *\n",
    "from pyspark.sql.window import Window\n",
    "NoneType = type(None)\n",
    "import os\n",
    "import socket\n",
    "import hashlib\n",
    "import string\n",
    "\n",
    "import time\n",
    "from osgeo import ogr\n",
    "import geopandas as gpd\n",
    "from pyspark.sql import SparkSession\n",
    "from sedona.register import SedonaRegistrator\n",
    "from sedona.utils import SedonaKryoRegistrator, KryoSerializer"
   ]
  },
  {
   "cell_type": "code",
   "execution_count": 2,
   "id": "expected-killer",
   "metadata": {},
   "outputs": [],
   "source": [
    "def createMd5(text):\n",
    "    return hashlib.md5(text.encode('utf-8')).hexdigest()\n",
    "md5Udf= udf(lambda z: createMd5(z),StringType())\n",
    "\n",
    "def clean_lower(text):\n",
    "    sentence = text.translate(str.maketrans('', '', '!\"#$%&\\'()*+,./:;<=>?@[\\\\]^`{|}~-_”“«»‘')).lower()\n",
    "    return \" \".join(sentence.split())\n",
    "cleanLowerUdf= udf(lambda z: clean_lower(z),StringType())\n",
    "\n",
    "def get_site_from_url(text):\n",
    "    return text.split(\"/\")[2]\n",
    "getUrl= udf(lambda z: get_site_from_url(z),StringType())    \n"
   ]
  },
  {
   "cell_type": "code",
   "execution_count": 3,
   "id": "nervous-greece",
   "metadata": {},
   "outputs": [
    {
     "data": {
      "text/plain": [
       "True"
      ]
     },
     "execution_count": 3,
     "metadata": {},
     "output_type": "execute_result"
    }
   ],
   "source": [
    "minio_ip = socket.gethostbyname('minio')\n",
    "spark = SparkSession. \\\n",
    "    builder. \\\n",
    "    appName(\"Python Spark S3\"). \\\n",
    "    config(\"spark.serializer\", KryoSerializer.getName). \\\n",
    "    config(\"spark.executor.memory\", \"80g\"). \\\n",
    "    config(\"spark.driver.memory\", \"80g\"). \\\n",
    "    config('spark.dirver.maxResultSize', '5g'). \\\n",
    "    config(\"spark.kryo.registrator\", SedonaKryoRegistrator.getName). \\\n",
    "    config('spark.hadoop.fs.s3a.endpoint', 'http://'+minio_ip+':9000'). \\\n",
    "    config(\"spark.hadoop.fs.s3a.access.key\", \"minio-access-key\"). \\\n",
    "    config(\"spark.hadoop.fs.s3a.secret.key\", \"minio-secret-key\"). \\\n",
    "    config('spark.hadoop.fs.s3a.impl', 'org.apache.hadoop.fs.s3a.S3AFileSystem'). \\\n",
    "    config('spark.jars.packages',\n",
    "           'org.apache.sedona:sedona-python-adapter-3.0_2.12:1.0.0-incubating,org.datasyslab:geotools-wrapper:geotools-24.0'). \\\n",
    "    getOrCreate()\n",
    "SedonaRegistrator.registerAll(spark)"
   ]
  },
  {
   "cell_type": "code",
   "execution_count": 4,
   "id": "determined-database",
   "metadata": {},
   "outputs": [],
   "source": [
    "\n",
    "st= StructType([\n",
    "    StructField(\"abstract\", StringType()),\n",
    "    StructField(\"authors\", StringType()),\n",
    "    StructField(\"image\", StringType()),\n",
    "    StructField(\"metadata\", StringType()),\n",
    "    StructField(\"publish_date\", TimestampType()),\n",
    "    StructField(\"text\", StringType()),\n",
    "    StructField(\"title\", StringType()),\n",
    "    StructField(\"url\", StringType()),\n",
    "])"
   ]
  },
  {
   "cell_type": "code",
   "execution_count": 29,
   "id": "mathematical-leisure",
   "metadata": {},
   "outputs": [],
   "source": [
    "df_news_covid_mexico = spark \\\n",
    "                        .read.schema(st).option(\"timestampFormat\", \"dd-MM-yyyy\") \\\n",
    "                        .json(\"s3a://news/covid_mexico/*.json\")"
   ]
  },
  {
   "cell_type": "code",
   "execution_count": 6,
   "id": "martial-affect",
   "metadata": {},
   "outputs": [
    {
     "data": {
      "text/plain": [
       "2110"
      ]
     },
     "execution_count": 6,
     "metadata": {},
     "output_type": "execute_result"
    }
   ],
   "source": [
    "df_news_covid_mexico.count()"
   ]
  },
  {
   "cell_type": "code",
   "execution_count": 7,
   "id": "korean-usage",
   "metadata": {},
   "outputs": [
    {
     "name": "stdout",
     "output_type": "stream",
     "text": [
      "root\n",
      " |-- abstract: string (nullable = true)\n",
      " |-- authors: string (nullable = true)\n",
      " |-- image: string (nullable = true)\n",
      " |-- metadata: string (nullable = true)\n",
      " |-- publish_date: timestamp (nullable = true)\n",
      " |-- text: string (nullable = true)\n",
      " |-- title: string (nullable = true)\n",
      " |-- url: string (nullable = true)\n",
      "\n"
     ]
    }
   ],
   "source": [
    "df_news_covid_mexico.printSchema()"
   ]
  },
  {
   "cell_type": "code",
   "execution_count": 8,
   "id": "indie-moscow",
   "metadata": {},
   "outputs": [
    {
     "name": "stdout",
     "output_type": "stream",
     "text": [
      "+--------------------+--------------------+--------------------+--------------------+-------------------+--------------------+--------------------+--------------------+\n",
      "|            abstract|             authors|               image|            metadata|       publish_date|                text|               title|                 url|\n",
      "+--------------------+--------------------+--------------------+--------------------+-------------------+--------------------+--------------------+--------------------+\n",
      "|Caída del peso y ...|     Milenio Digital|https://www.milen...|Milenio.com, 29 m...|2020-03-29 00:00:00|Milenio Digital  ...|Caída del peso y ...|https://www.milen...|\n",
      "|La Secretaría de ...|Fernando Damián;M...|https://www.milen...|Milenio.com, 29 m...|2020-03-29 00:00:00|Fernando Damián, ...|Coronavirus en Mé...|https://www.milen...|\n",
      "|Han muerto 20 per...|Milenio Digital Y...|https://www.milen...|Milenio.com, 29 m...|2020-03-29 00:00:00|Milenio Digital y...|Coronavirus en Mé...|https://www.milen...|\n",
      "|Al menos 16 médic...|Foto;Cuartoscuro ...|https://cdn-3.exp...|Expansión, 29 mar...|2020-03-29 00:00:00|De la 1 a la 3, c...|El gobernador de ...|https://politica....|\n",
      "|#Testimonio | \"En...|Foto;Jimena Garcí...|https://cdn-3.exp...|Expansión, 29 mar...|2020-03-29 00:00:00|La joven llegó a ...|#Testimonio | \"En...|https://politica....|\n",
      "|México rebasó los...|Foto;Cuartoscuro ...|https://cdn-3.exp...|ADNPolítico, 9 ju...|2020-07-09 00:00:00|Con estas últimas...|México confirma m...|https://politica....|\n",
      "|Jeanine Añez info...|        Forbes Staff|https://cdn.forbe...|Forbes Mexico, 9 ...|2020-07-09 00:00:00|Reuters.- La pres...|Presidenta de Bol...|https://www.forbe...|\n",
      "|El reporte agrega...|Por Abel Alvarado...|https://cnnespano...|    CNN, 9 jul. 2020|2020-07-09 00:00:00|Los casos confirm...|Coronavirus 9 de ...|https://cnnespano...|\n",
      "|... de México rea...|    Alfredo Estrella|https://as01.epim...|AS Mexico, 9 jul....|2020-07-07 00:00:00|Los centros comer...|Centros comercial...|https://mexico.as...|\n",
      "|En MARCA Claro te...|                    |https://e00-marca...|Marca Claro Méxic...|2020-07-09 00:00:00|Coronavirus Méxic...|Coronavirus Méxic...|https://www.marca...|\n",
      "+--------------------+--------------------+--------------------+--------------------+-------------------+--------------------+--------------------+--------------------+\n",
      "only showing top 10 rows\n",
      "\n"
     ]
    }
   ],
   "source": [
    "df_news_covid_mexico.show(10)"
   ]
  },
  {
   "cell_type": "code",
   "execution_count": 9,
   "id": "exclusive-somewhere",
   "metadata": {},
   "outputs": [],
   "source": [
    "df_news_covid_mexico_date_text = df_news_covid_mexico.select(md5Udf(\"url\").alias(\"article_id\"),\"title\",\"url\",\"publish_date\",cleanLowerUdf(\"text\").alias(\"clean_text\"),getUrl(\"url\").alias(\"site\")).filter(\"length(text) >= 2\")"
   ]
  },
  {
   "cell_type": "code",
   "execution_count": 10,
   "id": "biological-typing",
   "metadata": {},
   "outputs": [
    {
     "name": "stdout",
     "output_type": "stream",
     "text": [
      "+--------------------+--------------------+--------------------+-------------------+--------------------+--------------------+\n",
      "|          article_id|               title|                 url|       publish_date|          clean_text|                site|\n",
      "+--------------------+--------------------+--------------------+-------------------+--------------------+--------------------+\n",
      "|9ce703a7bf3423248...|Caída del peso y ...|https://www.milen...|2020-03-29 00:00:00|milenio digital l...|     www.milenio.com|\n",
      "|cdd17bbabcd40bb3b...|Coronavirus en Mé...|https://www.milen...|2020-03-29 00:00:00|fernando damián m...|     www.milenio.com|\n",
      "|cf44530bae9e92f21...|Coronavirus en Mé...|https://www.milen...|2020-03-29 00:00:00|milenio digital y...|     www.milenio.com|\n",
      "|a1625d0cc6177f2f0...|El gobernador de ...|https://politica....|2020-03-29 00:00:00|de la 1 a la 3 co...|politica.expansio...|\n",
      "|4f093d45e3e2bbc68...|#Testimonio | \"En...|https://politica....|2020-03-29 00:00:00|la joven llegó a ...|politica.expansio...|\n",
      "|681c629f82da0ba33...|México confirma m...|https://politica....|2020-07-09 00:00:00|con estas últimas...|politica.expansio...|\n",
      "|da1f763192882d1b1...|Presidenta de Bol...|https://www.forbe...|2020-07-09 00:00:00|reuters la presid...|   www.forbes.com.mx|\n",
      "|d6388e7872076a342...|Coronavirus 9 de ...|https://cnnespano...|2020-07-09 00:00:00|los casos confirm...|  cnnespanol.cnn.com|\n",
      "|91d801e28a81037ec...|Centros comercial...|https://mexico.as...|2020-07-07 00:00:00|los centros comer...|       mexico.as.com|\n",
      "|b83cdf964da7930fb...|Coronavirus Méxic...|https://www.marca...|2020-07-09 00:00:00|coronavirus méxic...|       www.marca.com|\n",
      "|1ad1348149338c193...|Mexicanos no podr...|https://www.marca...|2020-06-30 00:00:00|mexicanos no podr...|       www.marca.com|\n",
      "|11d8d5675bfc84c1b...|Coronavirus en Mé...|https://mexico.as...|2020-06-30 00:00:00|sobre las manifes...|       mexico.as.com|\n",
      "|8b0cf48512581df5b...|Coronavirus Méxic...|https://www.marca...|2020-06-30 00:00:00|coronavirus méxic...|       www.marca.com|\n",
      "|90b36595ab577c269...|México suma 226,0...|https://www.eleco...|2020-06-30 00:00:00|la secretaría de ...|www.eleconomista....|\n",
      "|17f05252a363bbb81...|Remdesivir no es ...|https://www.forbe...|2020-07-01 00:00:00|la evidencia gene...|   www.forbes.com.mx|\n",
      "+--------------------+--------------------+--------------------+-------------------+--------------------+--------------------+\n",
      "only showing top 15 rows\n",
      "\n"
     ]
    }
   ],
   "source": [
    "df_news_covid_mexico_date_text.show(15)"
   ]
  },
  {
   "cell_type": "code",
   "execution_count": 11,
   "id": "attached-person",
   "metadata": {},
   "outputs": [
    {
     "data": {
      "text/plain": [
       "1912"
      ]
     },
     "execution_count": 11,
     "metadata": {},
     "output_type": "execute_result"
    }
   ],
   "source": [
    "df_news_covid_mexico_date_text.count()"
   ]
  },
  {
   "cell_type": "code",
   "execution_count": 12,
   "id": "viral-interim",
   "metadata": {},
   "outputs": [
    {
     "name": "stdout",
     "output_type": "stream",
     "text": [
      "+-------------------------------------------------------------------------------------------------------------------------------+\n",
      "|title                                                                                                                          |\n",
      "+-------------------------------------------------------------------------------------------------------------------------------+\n",
      "|Caída del peso y suspensión de clases: cronología del coronavirus en México                                                    |\n",
      "|Coronavirus en México, noticias del 29 de marzo                                                                                |\n",
      "|Coronavirus en México. Reportan 20 muertes por Covid-19                                                                        |\n",
      "|El gobernador de Coahuila reporta 16 médicos y enfermeras con COVID-19                                                         |\n",
      "|#Testimonio | \"En Perú, la gente no entró en pánico como en México\"                                                            |\n",
      "|México confirma más de 7,000 casos de COVID-19 en un día y alcanza nuevo máximo                                                |\n",
      "|Presidenta de Bolivia da positivo a Covid-19                                                                                   |\n",
      "|Coronavirus 9 de julio, minuto a minuto: Varios países de América Latina están llegando a nuevos picos de infecciones y muertes|\n",
      "|Centros comerciales y tiendas en México: reglas y medidas contra el coronavirus                                                |\n",
      "|Coronavirus México 9 de julio: últimas noticias, contagios y muertes                                                           |\n",
      "|Mexicanos no podrán viajar a Europa hasta nuevo aviso                                                                          |\n",
      "|Coronavirus en México: resumen, casos y muertes del 30 de junio                                                                |\n",
      "|Coronavirus México hoy 30 de junio; resumen de las últimas noticias, contagios y muertes                                       |\n",
      "|México suma 226,089 casos confirmados de Covid-19 y 27,769 fallecimientos                                                      |\n",
      "|Remdesivir no es suficientemente útil contra Covid-19: Lopéz-Gatell                                                            |\n",
      "+-------------------------------------------------------------------------------------------------------------------------------+\n",
      "only showing top 15 rows\n",
      "\n"
     ]
    }
   ],
   "source": [
    "df_news_covid_mexico_date_text.select(\"title\").show(15,False)"
   ]
  },
  {
   "cell_type": "code",
   "execution_count": 13,
   "id": "engaging-neighborhood",
   "metadata": {},
   "outputs": [],
   "source": [
    "url = \"jdbc:postgresql://postgres/shared\"\n",
    "mode=\"overwrite\"\n",
    "properties = {\n",
    "    \"user\": \"shared\",\n",
    "    \"password\": os.environ['SHARED_PASSWORD']\n",
    "}"
   ]
  },
  {
   "cell_type": "code",
   "execution_count": null,
   "id": "impaired-portland",
   "metadata": {},
   "outputs": [],
   "source": []
  },
  {
   "cell_type": "code",
   "execution_count": 14,
   "id": "pending-producer",
   "metadata": {},
   "outputs": [],
   "source": [
    "df_news_covid_mexico_date_text.write.jdbc(url=url, table=\"tb_news_covid_mexico_date_text\", mode=mode, properties=properties)"
   ]
  },
  {
   "cell_type": "code",
   "execution_count": 15,
   "id": "exciting-replica",
   "metadata": {},
   "outputs": [],
   "source": [
    "df_news_covid_mexico_palabras = df_news_covid_mexico_date_text.select(\"article_id\",\"publish_date\",explode(split(df_news_covid_mexico_date_text.clean_text, \"\\s\")).alias(\"palabra\")).where(length('palabra') > 1)"
   ]
  },
  {
   "cell_type": "code",
   "execution_count": 16,
   "id": "academic-sympathy",
   "metadata": {},
   "outputs": [
    {
     "name": "stdout",
     "output_type": "stream",
     "text": [
      "+--------------------+-------------------+------------------+\n",
      "|          article_id|       publish_date|           palabra|\n",
      "+--------------------+-------------------+------------------+\n",
      "|9ce703a7bf3423248...|2020-03-29 00:00:00|           milenio|\n",
      "|9ce703a7bf3423248...|2020-03-29 00:00:00|           digital|\n",
      "|9ce703a7bf3423248...|2020-03-29 00:00:00|                la|\n",
      "|9ce703a7bf3423248...|2020-03-29 00:00:00|            muerte|\n",
      "|9ce703a7bf3423248...|2020-03-29 00:00:00|                de|\n",
      "|9ce703a7bf3423248...|2020-03-29 00:00:00|               una|\n",
      "|9ce703a7bf3423248...|2020-03-29 00:00:00|           persona|\n",
      "|9ce703a7bf3423248...|2020-03-29 00:00:00|                la|\n",
      "|9ce703a7bf3423248...|2020-03-29 00:00:00|        suspensión|\n",
      "|9ce703a7bf3423248...|2020-03-29 00:00:00|                de|\n",
      "|9ce703a7bf3423248...|2020-03-29 00:00:00|            clases|\n",
      "|9ce703a7bf3423248...|2020-03-29 00:00:00|             caída|\n",
      "|9ce703a7bf3423248...|2020-03-29 00:00:00|                de|\n",
      "|9ce703a7bf3423248...|2020-03-29 00:00:00|                la|\n",
      "|9ce703a7bf3423248...|2020-03-29 00:00:00|             bolsa|\n",
      "|9ce703a7bf3423248...|2020-03-29 00:00:00|               del|\n",
      "|9ce703a7bf3423248...|2020-03-29 00:00:00|              peso|\n",
      "|9ce703a7bf3423248...|2020-03-29 00:00:00|               son|\n",
      "|9ce703a7bf3423248...|2020-03-29 00:00:00|           algunos|\n",
      "|9ce703a7bf3423248...|2020-03-29 00:00:00|                de|\n",
      "|9ce703a7bf3423248...|2020-03-29 00:00:00|               los|\n",
      "|9ce703a7bf3423248...|2020-03-29 00:00:00|           efectos|\n",
      "|9ce703a7bf3423248...|2020-03-29 00:00:00|               que|\n",
      "|9ce703a7bf3423248...|2020-03-29 00:00:00|                ha|\n",
      "|9ce703a7bf3423248...|2020-03-29 00:00:00|            traído|\n",
      "|9ce703a7bf3423248...|2020-03-29 00:00:00|                la|\n",
      "|9ce703a7bf3423248...|2020-03-29 00:00:00|           llegada|\n",
      "|9ce703a7bf3423248...|2020-03-29 00:00:00|               del|\n",
      "|9ce703a7bf3423248...|2020-03-29 00:00:00|coronaviruscovid19|\n",
      "|9ce703a7bf3423248...|2020-03-29 00:00:00|            méxico|\n",
      "+--------------------+-------------------+------------------+\n",
      "only showing top 30 rows\n",
      "\n"
     ]
    }
   ],
   "source": [
    "df_news_covid_mexico_palabras.show(30)"
   ]
  },
  {
   "cell_type": "code",
   "execution_count": 17,
   "id": "composite-nashville",
   "metadata": {},
   "outputs": [
    {
     "name": "stdout",
     "output_type": "stream",
     "text": [
      "+--------------------+-------+-------------------+-----+\n",
      "|          article_id|palabra|       publish_date|count|\n",
      "+--------------------+-------+-------------------+-----+\n",
      "|8b0cf48512581df5b...|     de|2020-06-30 00:00:00|  405|\n",
      "|dd755391269cad294...|     de|2020-04-21 00:00:00|  395|\n",
      "|c436a8d90969dd3b3...|     de|2020-07-01 00:00:00|  390|\n",
      "|99caa557807376a6a...|     de|2020-06-20 00:00:00|  374|\n",
      "|b83cdf964da7930fb...|     de|2020-07-09 00:00:00|  369|\n",
      "|8c4f10eedc1022f82...|     de|2020-07-21 00:00:00|  354|\n",
      "|dbf80d5e3a74dd1f7...|     de|2020-04-30 00:00:00|  349|\n",
      "|9fb6aad8918cbddc8...|     de|2020-06-07 00:00:00|  349|\n",
      "|cdd17bbabcd40bb3b...|     de|2020-03-29 00:00:00|  331|\n",
      "|6b24a43e24bb55800...|     de|2020-05-25 00:00:00|  254|\n",
      "|d5244ccef7fe552a3...|     de|2020-07-19 00:00:00|  251|\n",
      "|17daba1b37d7fcdd2...|     de|2020-02-29 00:00:00|  245|\n",
      "|8d6050c8ce801550d...|     de|2020-03-28 00:00:00|  238|\n",
      "|f223424e8afd7e4a7...|     de|2020-05-27 00:00:00|  228|\n",
      "|dd755391269cad294...|     la|2020-04-21 00:00:00|  228|\n",
      "|dd755391269cad294...|     el|2020-04-21 00:00:00|  222|\n",
      "|b83cdf964da7930fb...|     la|2020-07-09 00:00:00|  220|\n",
      "|8b0cf48512581df5b...|     la|2020-06-30 00:00:00|  216|\n",
      "|c436a8d90969dd3b3...|     la|2020-07-01 00:00:00|  206|\n",
      "|578f355aac4efab56...|     de|2020-05-14 00:00:00|  206|\n",
      "|b83cdf964da7930fb...|     en|2020-07-09 00:00:00|  203|\n",
      "|9ce703a7bf3423248...|     de|2020-03-29 00:00:00|  202|\n",
      "|9fb6aad8918cbddc8...|     la|2020-06-07 00:00:00|  184|\n",
      "|cdd17bbabcd40bb3b...|     la|2020-03-29 00:00:00|  182|\n",
      "|d01d519971c6c896f...|     de|2020-09-18 00:00:00|  181|\n",
      "+--------------------+-------+-------------------+-----+\n",
      "only showing top 25 rows\n",
      "\n"
     ]
    }
   ],
   "source": [
    "#https://sigdelta.com/blog/word-count-in-spark-with-a-pinch-of-tf-idf/\n",
    "df_news_covid_mexico_palabras.groupBy('article_id', 'palabra','publish_date')\\\n",
    "    .count()\\\n",
    "    .orderBy('count', ascending=False)\\\n",
    "    .show(25)"
   ]
  },
  {
   "cell_type": "code",
   "execution_count": 18,
   "id": "distant-prerequisite",
   "metadata": {},
   "outputs": [
    {
     "name": "stdout",
     "output_type": "stream",
     "text": [
      "+---------------+-------+---------------+---+----+---------------+\n",
      "|     article_id|palabra|   publish_date|n_w| n_d|             tf|\n",
      "+---------------+-------+---------------+---+----+---------------+\n",
      "|8b0cf4851258...|     de|2020-06-30 0...|405|5383|0.0752368567...|\n",
      "|dd755391269c...|     de|2020-04-21 0...|395|5425|0.0728110599...|\n",
      "|c436a8d90969...|     de|2020-07-01 0...|390|4986|0.0782190132...|\n",
      "|99caa5578073...|     de|2020-06-20 0...|374|4616|0.0810225303...|\n",
      "|b83cdf964da7...|     de|2020-07-09 0...|369|5333|0.0691918244...|\n",
      "|8c4f10eedc10...|     de|2020-07-21 0...|354|4512|0.0784574468...|\n",
      "|dbf80d5e3a74...|     de|2020-04-30 0...|349|4173|0.0836328780...|\n",
      "|9fb6aad8918c...|     de|2020-06-07 0...|349|4242|0.0822725129...|\n",
      "|cdd17bbabcd4...|     de|2020-03-29 0...|331|4066|0.0814067879...|\n",
      "|6b24a43e24bb...|     de|2020-05-25 0...|254|2579|0.0984877859...|\n",
      "|d5244ccef7fe...|     de|2020-07-19 0...|251|3489|0.0719403840...|\n",
      "|17daba1b37d7...|     de|2020-02-29 0...|245|2745|0.0892531876...|\n",
      "|8d6050c8ce80...|     de|2020-03-28 0...|238|2885|0.0824956672...|\n",
      "|f223424e8afd...|     de|2020-05-27 0...|228|2638|0.0864291129...|\n",
      "|dd755391269c...|     la|2020-04-21 0...|228|5425|0.0420276497...|\n",
      "|dd755391269c...|     el|2020-04-21 0...|222|5425|0.0409216589...|\n",
      "|b83cdf964da7...|     la|2020-07-09 0...|220|5333|0.0412525782...|\n",
      "|8b0cf4851258...|     la|2020-06-30 0...|216|5383|0.0401263236...|\n",
      "|c436a8d90969...|     la|2020-07-01 0...|206|4986|0.0413156839...|\n",
      "|578f355aac4e...|     de|2020-05-14 0...|206|2393|0.0860844128...|\n",
      "+---------------+-------+---------------+---+----+---------------+\n",
      "only showing top 20 rows\n",
      "\n"
     ]
    }
   ],
   "source": [
    "#https://sigdelta.com/blog/word-count-in-spark-with-a-pinch-of-tf-idf-continued/\n",
    "w = Window.partitionBy(df_news_covid_mexico_palabras['article_id'])\n",
    "\n",
    "article_tf = df_news_covid_mexico_palabras.groupBy('article_id', 'palabra', 'publish_date')\\\n",
    "    .agg(count('*').alias('n_w'),sum(count('*')).over(w).alias('n_d'),(count('*')/sum(count('*')).over(w)).alias('tf'))\\\n",
    "    .orderBy('n_w', ascending=False)\\\n",
    "    .cache()\n",
    "\n",
    "article_tf.show(truncate=15)"
   ]
  },
  {
   "cell_type": "code",
   "execution_count": 19,
   "id": "endless-valuable",
   "metadata": {},
   "outputs": [],
   "source": [
    "w = Window.partitionBy('palabra')\n",
    "\n",
    "c_d = df_news_covid_mexico_palabras.select('article_id').distinct().count()\n",
    "\n",
    "article_idf = df_news_covid_mexico_palabras.groupBy('palabra', 'article_id','publish_date').agg(\n",
    "        lit(c_d).alias('c_d'),\n",
    "        count('*').over(w).alias('i_d'),\n",
    "        log(lit(c_d)/count('*').over(w)).alias('idf')\n",
    "    )\\\n",
    "    .orderBy('idf', ascending=False)\\\n",
    "    .cache()"
   ]
  },
  {
   "cell_type": "code",
   "execution_count": 20,
   "id": "alone-bundle",
   "metadata": {},
   "outputs": [
    {
     "name": "stdout",
     "output_type": "stream",
     "text": [
      "+---------------+---------------+---------------+----+---+---------------+\n",
      "|        palabra|     article_id|   publish_date| c_d|i_d|            idf|\n",
      "+---------------+---------------+---------------+----+---+---------------+\n",
      "|          14157|15db600b5cc6...|2020-09-28 0...|1912|  1|7.5559050936...|\n",
      "|           1512|6b24a43e24bb...|2020-05-25 0...|1912|  1|7.5559050936...|\n",
      "|          16320|0cccaf8df9f8...|2020-06-03 0...|1912|  1|7.5559050936...|\n",
      "|          16974|d01d519971c6...|2020-09-18 0...|1912|  1|7.5559050936...|\n",
      "|          17427|6e8dbba33509...|2021-03-05 0...|1912|  1|7.5559050936...|\n",
      "|          20428|d6f5d07e217f...|2020-02-04 0...|1912|  1|7.5559050936...|\n",
      "|           2136|0cccaf8df9f8...|2020-06-03 0...|1912|  1|7.5559050936...|\n",
      "|          23918|eba398de9058...|2020-08-08 0...|1912|  1|7.5559050936...|\n",
      "|           2904|d01d519971c6...|2020-09-18 0...|1912|  1|7.5559050936...|\n",
      "|           4032|d96678dab28d...|2021-01-13 0...|1912|  1|7.5559050936...|\n",
      "|         404000|6b7d6d4fba36...|2020-08-29 0...|1912|  1|7.5559050936...|\n",
      "|           431​|6b24a43e24bb...|2020-05-25 0...|1912|  1|7.5559050936...|\n",
      "|         434193|963fa53fd5bb...|2020-08-02 0...|1912|  1|7.5559050936...|\n",
      "|         447000|9e460c3e3d79...|2020-11-12 0...|1912|  1|7.5559050936...|\n",
      "|          47437|8b0cf4851258...|2020-06-30 0...|1912|  1|7.5559050936...|\n",
      "|         521000|0f75ed6a4a61...|2020-07-04 0...|1912|  1|7.5559050936...|\n",
      "|         597991|7bfd1c570da4...|2020-10-13 0...|1912|  1|7.5559050936...|\n",
      "|           6194|7e335fbffece...|2020-06-28 0...|1912|  1|7.5559050936...|\n",
      "|          64595|1ab3734b81ff...|2020-08-24 0...|1912|  1|7.5559050936...|\n",
      "|           7252|cb0a589f1d1a...|2020-08-28 0...|1912|  1|7.5559050936...|\n",
      "|           7273|160cc0aae6f0...|2021-01-02 0...|1912|  1|7.5559050936...|\n",
      "|        74agonu|f46c8d9716f9...|2020-09-15 0...|1912|  1|7.5559050936...|\n",
      "|           7711|3d7b18d404bd...|2020-06-20 0...|1912|  1|7.5559050936...|\n",
      "|          81877|0cdfdb113de4...|2020-10-06 0...|1912|  1|7.5559050936...|\n",
      "|          86900|4ce92b0f3fc3...|2020-12-14 0...|1912|  1|7.5559050936...|\n",
      "|          aislé|726f31e0c33b...|2020-10-30 0...|1912|  1|7.5559050936...|\n",
      "|          anime|57a7681ee920...|2021-01-16 0...|1912|  1|7.5559050936...|\n",
      "|         antes–|f8fc642faab9...|2020-11-08 0...|1912|  1|7.5559050936...|\n",
      "|       apelando|175a7713f65e...|2020-03-23 0...|1912|  1|7.5559050936...|\n",
      "|    artesanales|e1d208a4e68a...|2020-07-23 0...|1912|  1|7.5559050936...|\n",
      "|      atendiera|be64b48d65bc...|2020-01-01 0...|1912|  1|7.5559050936...|\n",
      "|        baratos|1ab607113e8b...|2020-10-02 0...|1912|  1|7.5559050936...|\n",
      "|    bronquiolos|540d91b32fb0...|2020-06-25 0...|1912|  1|7.5559050936...|\n",
      "|            ces|90323d4014fd...|2020-06-23 0...|1912|  1|7.5559050936...|\n",
      "|    convertiría|a6a0c1f92d98...|2020-03-01 0...|1912|  1|7.5559050936...|\n",
      "|     crescencio|c36c7f6f4d8f...|2021-02-14 0...|1912|  1|7.5559050936...|\n",
      "|    debeapuntar|2a21e150f15a...|2020-11-06 0...|1912|  1|7.5559050936...|\n",
      "|  desaparecería|e0e2713546a6...|2020-07-19 0...|1912|  1|7.5559050936...|\n",
      "|      desprecia|dadf699a1238...|2020-01-09 0...|1912|  1|7.5559050936...|\n",
      "|          dicte|578f355aac4e...|2020-05-14 0...|1912|  1|7.5559050936...|\n",
      "|           didi|9a340a1b5917...|2020-01-06 0...|1912|  1|7.5559050936...|\n",
      "|    equilibrios|d0d0c0bcc2ef...|2021-03-01 0...|1912|  1|7.5559050936...|\n",
      "|   especilistas|51a312dfde4c...|2020-04-03 0...|1912|  1|7.5559050936...|\n",
      "|      estamento|1a657ae1f1ae...|2020-02-07 0...|1912|  1|7.5559050936...|\n",
      "|   etiquetarlos|0b07dda461bb...|2020-04-03 0...|1912|  1|7.5559050936...|\n",
      "| experimentados|63ae6796d445...|2020-01-10 0...|1912|  1|7.5559050936...|\n",
      "|           giga|00c5986f8d14...|2020-01-05 0...|1912|  1|7.5559050936...|\n",
      "|httpstcotw2f...|c436a8d90969...|2020-07-01 0...|1912|  1|7.5559050936...|\n",
      "|    igualitario|6431e703fd3c...|2020-08-26 0...|1912|  1|7.5559050936...|\n",
      "|    implantarse|902ad6746364...|2020-04-13 0...|1912|  1|7.5559050936...|\n",
      "|     inventando|aa21a6653d04...|2020-03-30 0...|1912|  1|7.5559050936...|\n",
      "|     jesusseade|48aeb2601414...|2020-01-19 0...|1912|  1|7.5559050936...|\n",
      "|jurisprudencias|4fe8386e08e1...|2020-03-02 0...|1912|  1|7.5559050936...|\n",
      "|         laboró|963fc3aaad08...|2020-07-26 0...|1912|  1|7.5559050936...|\n",
      "|         lawlor|1b3b397b2bce...|2020-10-14 0...|1912|  1|7.5559050936...|\n",
      "|        luchaba|aa21a6653d04...|2020-03-30 0...|1912|  1|7.5559050936...|\n",
      "|        luchado|dd755391269c...|2020-04-21 0...|1912|  1|7.5559050936...|\n",
      "|        mojarse|3a52d9ede1e6...|2020-08-09 0...|1912|  1|7.5559050936...|\n",
      "|         nicita|0e228c1d54fc...|2020-03-14 0...|1912|  1|7.5559050936...|\n",
      "|      novedosos|91c405616d42...|2020-08-24 0...|1912|  1|7.5559050936...|\n",
      "|        nudista|cdd17bbabcd4...|2020-03-29 0...|1912|  1|7.5559050936...|\n",
      "|          nunez|a7f0dcd0ad34...|2020-02-15 0...|1912|  1|7.5559050936...|\n",
      "|   obligatorias|b0677603ceae...|2020-07-17 0...|1912|  1|7.5559050936...|\n",
      "|       pastores|f223424e8afd...|2020-05-27 0...|1912|  1|7.5559050936...|\n",
      "|   petroprecios|d586e840082f...|2020-03-09 0...|1912|  1|7.5559050936...|\n",
      "|      pgaleanah|f43f977c9b97...|2020-06-13 0...|1912|  1|7.5559050936...|\n",
      "|pictwitterco...|e64fc9cc83c6...|2020-11-19 0...|1912|  1|7.5559050936...|\n",
      "|        pitcher|9c6ec0d08684...|2020-02-03 0...|1912|  1|7.5559050936...|\n",
      "|    preolímpico|febaefb67571...|2020-03-16 0...|1912|  1|7.5559050936...|\n",
      "|    presentarle|9f2902503081...|2020-09-10 0...|1912|  1|7.5559050936...|\n",
      "|        póstumo|dbf80d5e3a74...|2020-04-30 0...|1912|  1|7.5559050936...|\n",
      "|       somaglia|fabe7f6c397d...|2020-02-24 0...|1912|  1|7.5559050936...|\n",
      "|     subreporte|9c4458e685f6...|2020-09-06 0...|1912|  1|7.5559050936...|\n",
      "|         suzhou|80802564c423...|2020-02-19 0...|1912|  1|7.5559050936...|\n",
      "|      tamizajes|c7a53469fa26...|2020-01-27 0...|1912|  1|7.5559050936...|\n",
      "|   tequexquitla|99caa5578073...|2020-06-20 0...|1912|  1|7.5559050936...|\n",
      "|          those|8592adb34fec...|2020-03-11 0...|1912|  1|7.5559050936...|\n",
      "|       trasiego|dfc9a442b4b1...|2020-04-04 0...|1912|  1|7.5559050936...|\n",
      "|          vendo|00c5986f8d14...|2020-01-05 0...|1912|  1|7.5559050936...|\n",
      "|  villabasílica|3a50bbf3b9c1...|2020-05-03 0...|1912|  1|7.5559050936...|\n",
      "|       volcanes|c55e64c89ff6...|2020-12-10 0...|1912|  1|7.5559050936...|\n",
      "|            wto|c15047acf463...|2020-05-01 0...|1912|  1|7.5559050936...|\n",
      "|       yokohama|80802564c423...|2020-02-19 0...|1912|  1|7.5559050936...|\n",
      "|            zig|b4021d616919...|2021-01-15 0...|1912|  1|7.5559050936...|\n",
      "|          11247|8b2718428265...|2020-07-15 0...|1912|  1|7.5559050936...|\n",
      "|          13985|d7efdc049e47...|2020-04-03 0...|1912|  1|7.5559050936...|\n",
      "|         175000|551cf1b96e7b...|2021-02-16 0...|1912|  1|7.5559050936...|\n",
      "|           2110|dd755391269c...|2020-04-21 0...|1912|  1|7.5559050936...|\n",
      "|          22436|9fb6aad8918c...|2020-06-07 0...|1912|  1|7.5559050936...|\n",
      "|           2464|9ce703a7bf34...|2020-03-29 0...|1912|  1|7.5559050936...|\n",
      "|          33004|7e335fbffece...|2020-06-28 0...|1912|  1|7.5559050936...|\n",
      "|          37796|d01d519971c6...|2020-09-18 0...|1912|  1|7.5559050936...|\n",
      "|             3g|00c5986f8d14...|2020-01-05 0...|1912|  1|7.5559050936...|\n",
      "|           4894|b83cdf964da7...|2020-07-09 0...|1912|  1|7.5559050936...|\n",
      "|           5023|082df15321be...|2020-09-25 0...|1912|  1|7.5559050936...|\n",
      "|           5657|06f7f6cbb6c8...|2020-08-16 0...|1912|  1|7.5559050936...|\n",
      "|          59680|246cf5db9595...|2020-08-19 0...|1912|  1|7.5559050936...|\n",
      "|            853|51a312dfde4c...|2020-04-03 0...|1912|  1|7.5559050936...|\n",
      "|       abonando|a8662738a886...|2020-04-20 0...|1912|  1|7.5559050936...|\n",
      "|       acortara|2fad11ef56d5...|2020-05-20 0...|1912|  1|7.5559050936...|\n",
      "|       agilizar|fee183dec043...|2021-02-15 0...|1912|  1|7.5559050936...|\n",
      "|            aig|83231772d0a3...|2020-02-01 0...|1912|  1|7.5559050936...|\n",
      "|      alargaría|73a75b762c28...|2020-08-02 0...|1912|  1|7.5559050936...|\n",
      "|        aprieta|0838f56ebb5d...|2020-12-12 0...|1912|  1|7.5559050936...|\n",
      "|           bota|51fa360c732f...|2020-02-23 0...|1912|  1|7.5559050936...|\n",
      "|        bulimia|fb66d8f9461d...|2020-01-03 0...|1912|  1|7.5559050936...|\n",
      "|       calexico|91ebf1264fa9...|2020-06-19 0...|1912|  1|7.5559050936...|\n",
      "|        calimax|2a21e150f15a...|2020-11-06 0...|1912|  1|7.5559050936...|\n",
      "|      cambiaria|c64b46098950...|2020-03-13 0...|1912|  1|7.5559050936...|\n",
      "|        chriquí|9c6ec0d08684...|2020-02-03 0...|1912|  1|7.5559050936...|\n",
      "|            col|9fb6aad8918c...|2020-06-07 0...|1912|  1|7.5559050936...|\n",
      "|   comprobación|8b7f2842a4e9...|2020-12-10 0...|1912|  1|7.5559050936...|\n",
      "|    consecución|80824cfb82fd...|2020-01-16 0...|1912|  1|7.5559050936...|\n",
      "|    conseguirla|428851c16b21...|2020-06-17 0...|1912|  1|7.5559050936...|\n",
      "|   contemplaban|81fca7f40c68...|2021-01-14 0...|1912|  1|7.5559050936...|\n",
      "|      continuos|3da6b7eb5040...|2020-07-30 0...|1912|  1|7.5559050936...|\n",
      "|   conversation|7b0c82429c8b...|2020-01-09 0...|1912|  1|7.5559050936...|\n",
      "|     cooperamos|8c4f10eedc10...|2020-07-21 0...|1912|  1|7.5559050936...|\n",
      "|     deliberada|7b605f1af0a4...|2021-01-28 0...|1912|  1|7.5559050936...|\n",
      "|    desatendido|cf221a1554e9...|2020-10-10 0...|1912|  1|7.5559050936...|\n",
      "|descapitaliz...|5f714a437302...|2020-01-10 0...|1912|  1|7.5559050936...|\n",
      "|   devastadoras|3cedd8e9f8b2...|2020-08-13 0...|1912|  1|7.5559050936...|\n",
      "|            ebv|2b7cf6ebe9e2...|2020-01-04 0...|1912|  1|7.5559050936...|\n",
      "|      engañadas|173b6a1ab038...|2020-07-11 0...|1912|  1|7.5559050936...|\n",
      "|     epizootias|a64a54f8e643...|2020-01-28 0...|1912|  1|7.5559050936...|\n",
      "|           fama|2d379cca9a4e...|2020-10-08 0...|1912|  1|7.5559050936...|\n",
      "|      femeninos|2e71de0edb9d...|2020-05-22 0...|1912|  1|7.5559050936...|\n",
      "|     formularse|a23498739307...|2020-01-11 0...|1912|  1|7.5559050936...|\n",
      "|       grabados|7050982dab8f...|2020-07-13 0...|1912|  1|7.5559050936...|\n",
      "|   habilitación|5684511986dd...|2020-04-23 0...|1912|  1|7.5559050936...|\n",
      "|         huelga|75a3ac300b38...|2021-02-28 0...|1912|  1|7.5559050936...|\n",
      "| importaciones–|c7f9272f03c3...|2020-02-04 0...|1912|  1|7.5559050936...|\n",
      "|imprescindibles|1ab607113e8b...|2020-10-02 0...|1912|  1|7.5559050936...|\n",
      "|    inflaciones|b8ce65677f2b...|2020-01-30 0...|1912|  1|7.5559050936...|\n",
      "|        influya|175a7713f65e...|2020-03-23 0...|1912|  1|7.5559050936...|\n",
      "|    instructivo|d569ea1763f4...|2020-03-26 0...|1912|  1|7.5559050936...|\n",
      "|        lavando|414e20a12eb3...|2020-07-03 0...|1912|  1|7.5559050936...|\n",
      "|       listados|2c344ce0c6bc...|2020-04-02 0...|1912|  1|7.5559050936...|\n",
      "|         logran|36e44ed49f99...|2020-05-12 0...|1912|  1|7.5559050936...|\n",
      "|       luchamos|a7b6653bf183...|2020-08-27 0...|1912|  1|7.5559050936...|\n",
      "|          macho|433a56738060...|2020-02-14 0...|1912|  1|7.5559050936...|\n",
      "|           mal–|ce16d4b817ac...|2020-05-13 0...|1912|  1|7.5559050936...|\n",
      "|     medallista|79e6d4b53370...|2020-06-21 0...|1912|  1|7.5559050936...|\n",
      "|     mensajeros|adbc15ccc423...|2020-11-26 0...|1912|  1|7.5559050936...|\n",
      "|         nausea|2b7cf6ebe9e2...|2020-01-04 0...|1912|  1|7.5559050936...|\n",
      "|      oceánicas|6acb89708691...|2020-05-15 0...|1912|  1|7.5559050936...|\n",
      "|         ocotal|5eb35b1fccc8...|2020-11-23 0...|1912|  1|7.5559050936...|\n",
      "|      ocupadasy|b021db6e1c80...|2020-09-14 0...|1912|  1|7.5559050936...|\n",
      "|         orinar|6135b1b0ca9c...|2020-01-02 0...|1912|  1|7.5559050936...|\n",
      "|            otc|9a61d963b869...|2020-08-18 0...|1912|  1|7.5559050936...|\n",
      "+---------------+---------------+---------------+----+---+---------------+\n",
      "only showing top 150 rows\n",
      "\n"
     ]
    }
   ],
   "source": [
    "article_idf.show(150, truncate=15)"
   ]
  },
  {
   "cell_type": "code",
   "execution_count": 21,
   "id": "mathematical-poison",
   "metadata": {},
   "outputs": [],
   "source": [
    "article_tfidf = article_tf.join(article_idf, ['article_id', 'palabra', 'publish_date'])\\\n",
    "    .withColumn('tf_idf', col('tf') * col('idf'))\\\n",
    "    .cache()"
   ]
  },
  {
   "cell_type": "code",
   "execution_count": 22,
   "id": "injured-sunday",
   "metadata": {},
   "outputs": [
    {
     "name": "stdout",
     "output_type": "stream",
     "text": [
      "+------------+------------+------------+---+----+------------+----+---+------------+------------+\n",
      "|  article_id|     palabra|publish_date|n_w| n_d|          tf| c_d|i_d|         idf|      tf_idf|\n",
      "+------------+------------+------------+---+----+------------+----+---+------------+------------+\n",
      "|59827c83a...|       email|2020-10-0...|  2|  36|0.0555555...|1912|  6|5.7641456...|0.3202303...|\n",
      "|c084f0fa8...|  contenidos|2020-04-2...|  2|  41|0.0487804...|1912|  9|5.3586805...|0.2613990...|\n",
      "|88cd1e24b...|    hospital|2020-11-2...|103|1036|0.0994208...|1912|156|2.5060490...|0.2491535...|\n",
      "|d94f7e7fc...|     meteoro|2020-01-1...|  3|  96|     0.03125|1912|  1|7.5559050...|0.2361220...|\n",
      "|a4520e70b...|  balnearios|2020-06-2...|  7| 196|0.0357142...|1912|  3|6.4572928...|0.2306176...|\n",
      "|59827c83a...|   infórmate|2020-10-0...|  1|  36|0.0277777...|1912|  1|7.5559050...|0.2098862...|\n",
      "|59827c83a...|      ¡falta|2020-10-0...|  1|  36|0.0277777...|1912|  1|7.5559050...|0.2098862...|\n",
      "|59827c83a...|      submit|2020-10-0...|  1|  36|0.0277777...|1912|  1|7.5559050...|0.2098862...|\n",
      "|6acb89708...|    ciclones|2020-05-1...|  6| 218|0.0275229...|1912|  1|7.5559050...|0.2079606...|\n",
      "|a8ac1dd16...|        hsbc|2020-01-0...|  7| 257|0.0272373...|1912|  1|7.5559050...|0.2058028...|\n",
      "|5eb35b1fc...|        pblo|2020-11-2...| 27|1033|0.0261374...|1912|  1|7.5559050...|0.1974921...|\n",
      "|4abbf4e65...|         jal|2020-01-0...|  4| 139|0.0287769...|1912|  2|6.8627579...|0.1974894...|\n",
      "|7d513b0cb...|        viva|2020-09-1...| 19| 528|0.0359848...|1912|  8|5.4764635...|0.1970697...|\n",
      "|59dc33451...|    rentería|2020-01-1...|  5| 192|0.0260416...|1912|  1|7.5559050...|0.1967683...|\n",
      "|4dc58db12...|    aparicio|2020-02-1...|  4| 154|0.0259740...|1912|  1|7.5559050...|0.1962572...|\n",
      "|59827c83a...|          tu|2020-10-0...|  2|  36|0.0555555...|1912| 67|3.3512124...|0.1861784...|\n",
      "|c084f0fa8...|  publicamos|2020-04-2...|  1|  41|0.0243902...|1912|  1|7.5559050...|0.1842903...|\n",
      "|c084f0fa8...|       print|2020-04-2...|  1|  41|0.0243902...|1912|  1|7.5559050...|0.1842903...|\n",
      "|7050982da...|       karol|2020-07-1...|  6| 250|       0.024|1912|  1|7.5559050...|0.1813417...|\n",
      "|38cbf8ff0...|       67781|2020-09-0...|  1|  42|0.0238095...|1912|  1|7.5559050...|0.1799025...|\n",
      "|38cbf8ff0...|      637509|2020-09-0...|  1|  42|0.0238095...|1912|  1|7.5559050...|0.1799025...|\n",
      "|4dc58db12...|     yalitza|2020-02-1...|  4| 154|0.0259740...|1912|  2|6.8627579...|0.1782534...|\n",
      "|9a340a1b5...|       rappi|2020-01-0...| 25| 967|0.0258531...|1912|  2|6.8627579...|0.1774239...|\n",
      "|306a4f873...|      560164|2020-08-2...|  1|  43|0.0232558...|1912|  1|7.5559050...|0.1757187...|\n",
      "|6acb89708...|   huracanes|2020-05-1...|  5| 218|0.0229357...|1912|  1|7.5559050...|0.1733005...|\n",
      "|faf9cd6f6...|    incendio|2020-01-0...|  3| 100|        0.03|1912|  7|5.6099949...|0.1682998...|\n",
      "|467f181c8...|     colonia|2021-02-1...| 10| 285|0.0350877...|1912| 16|4.7833163...|0.1678356...|\n",
      "|c084f0fa8...|   redacción|2020-04-2...|  1|  41|0.0243902...|1912|  2|6.8627579...|0.1673843...|\n",
      "|c084f0fa8...|   ediciones|2020-04-2...|  1|  41|0.0243902...|1912|  2|6.8627579...|0.1673843...|\n",
      "|6b2344fc8...|     esports|2020-01-1...| 19| 779|0.0243902...|1912|  2|6.8627579...|0.1673843...|\n",
      "|f207943b4...|     cerveza|2020-01-0...|  8| 262|0.0305343...|1912|  8|5.4764635...|0.1672202...|\n",
      "|ea31a7709...|     remesas|2020-05-0...|  7| 201|0.0348258...|1912| 16|4.7833163...|0.1665831...|\n",
      "|88cd1e24b...|        isem|2020-11-2...| 25|1036|0.0241312...|1912|  2|6.8627579...|0.1656070...|\n",
      "|863a828a2...|     texcoco|2020-02-1...|  4| 133|0.0300751...|1912|  8|5.4764635...|0.1647056...|\n",
      "|3585c3b7a...|     douglas|2020-02-0...|  5| 230|0.0217391...|1912|  1|7.5559050...|0.1642588...|\n",
      "|830f93292...|     hoteles|2020-04-1...|  6| 149|0.0402684...|1912| 33|4.0593975...|0.1634656...|\n",
      "|c11fe632e...|      landau|2020-06-2...|  2|  69|0.0289855...|1912|  7|5.6099949...|0.1626085...|\n",
      "|305a8917b...|        kuri|2020-07-2...|  4| 170|0.0235294...|1912|  2|6.8627579...|0.1614766...|\n",
      "|20abd82ee...|      diezmo|2020-05-0...|  7| 298|0.0234899...|1912|  2|6.8627579...|0.1612057...|\n",
      "|59827c83a...| suscripción|2020-10-0...|  1|  36|0.0277777...|1912|  6|5.7641456...|0.1601151...|\n",
      "|787023d4e...|   negativos|2020-04-1...| 32| 470|0.0680851...|1912|183|2.3464189...|0.1597561...|\n",
      "|306a4f873...|       60480|2020-08-2...|  1|  43|0.0232558...|1912|  2|6.8627579...|0.1595990...|\n",
      "|44c224e02...|      238511|2020-07-0...|  1|  43|0.0232558...|1912|  2|6.8627579...|0.1595990...|\n",
      "|44c224e02...|       29189|2020-07-0...|  1|  43|0.0232558...|1912|  2|6.8627579...|0.1595990...|\n",
      "|469e9eaa7...|   negativos|2020-04-1...| 32| 474|0.0675105...|1912|183|2.3464189...|0.1584080...|\n",
      "|09f892aa8...|   negativos|2020-04-1...| 32| 475|0.0673684...|1912|183|2.3464189...|0.1580745...|\n",
      "|963fc3aaa...|     grajeda|2020-07-2...|  4| 175|0.0228571...|1912|  2|6.8627579...|0.1568630...|\n",
      "|959fe24c4...|       cuomo|2020-04-2...|  6| 247|0.0242914...|1912|  3|6.4572928...|0.1568573...|\n",
      "|e53f3cbc1...|      minuto|2020-12-1...|  2|  55|0.0363636...|1912| 26|4.2978085...|0.1562839...|\n",
      "|04467f8f9...|     metanol|2020-06-2...|  7| 339|0.0206489...|1912|  1|7.5559050...|0.1560216...|\n",
      "|d192a8e55...|   koronelli|2020-08-2...|  4| 153|0.0261437...|1912|  5|5.9464671...|0.1554631...|\n",
      "|4de699096...|       xolos|2020-09-1...|  5| 199|0.0251256...|1912|  4|6.1696107...|0.1550153...|\n",
      "|5b9c39cb9...|     banorte|2020-01-1...|  4| 149|0.0268456...|1912|  6|5.7641456...|0.1547421...|\n",
      "|d5e1662c7...|        luna|2020-01-0...|  4| 160|       0.025|1912|  4|6.1696107...|0.1542402...|\n",
      "|594cfe430...|      mojica|2020-07-2...|  2|  98|0.0204081...|1912|  1|7.5559050...|0.1542021...|\n",
      "|cb980539a...|     teletón|2020-05-1...|  3| 134|0.0223880...|1912|  2|6.8627579...|0.1536438...|\n",
      "|ea0ebc7af...|   negativos|2020-04-2...| 32| 489|0.0654396...|1912|183|2.3464189...|0.1535488...|\n",
      "|0d3627701...|   tonanitla|2020-08-3...|  2|  99|0.0202020...|1912|  1|7.5559050...|0.1526445...|\n",
      "|59827c83a...|       falla|2020-10-0...|  1|  36|0.0277777...|1912|  8|5.4764635...|0.1521239...|\n",
      "|70ce43668...|      pobre—|2020-04-0...|  1|  50|        0.02|1912|  1|7.5559050...|0.1511181...|\n",
      "|70ce43668...|      —donde|2020-04-0...|  1|  50|        0.02|1912|  1|7.5559050...|0.1511181...|\n",
      "|c084f0fa8...|  destacados|2020-04-2...|  1|  41|0.0243902...|1912|  4|6.1696107...|0.1504783...|\n",
      "|c084f0fa8...|       estés|2020-04-2...|  1|  41|0.0243902...|1912|  4|6.1696107...|0.1504783...|\n",
      "|c084f0fa8...| promociones|2020-04-2...|  1|  41|0.0243902...|1912|  4|6.1696107...|0.1504783...|\n",
      "|fa6a02ca4...|         ops|2020-11-2...|  4| 108|0.0370370...|1912| 33|4.0593975...|0.1503480...|\n",
      "|61a3a1828...|   radiación|2020-11-1...|  9| 456|0.0197368...|1912|  1|7.5559050...|0.1491297...|\n",
      "|46c0ca9b1...|  industrial|2021-01-0...|  2|  67|0.0298507...|1912| 13|4.9909557...|0.1489837...|\n",
      "|59827c83a...|     intenta|2020-10-0...|  1|  36|0.0277777...|1912|  9|5.3586805...|0.1488522...|\n",
      "|8cc41e0e4...|     propuso|2021-03-0...|  2|  62|0.0322580...|1912| 19|4.6114661...|0.1487569...|\n",
      "|33902c5e4...|    castillo|2021-02-1...|  6| 249|0.0240963...|1912|  4|6.1696107...|0.1486653...|\n",
      "|a9bcc3fa9...|   capetillo|2020-07-1...|  5| 256|  0.01953125|1912|  1|7.5559050...|0.1475762...|\n",
      "|46f0f466a...|      bolsas|2020-01-0...| 10| 384|0.0260416...|1912|  7|5.6099949...|0.1460936...|\n",
      "|3d7b18d40...|   negativos|2020-06-2...| 32| 514|0.0622568...|1912|183|2.3464189...|0.1460805...|\n",
      "|5a1742e02...|          pm|2020-03-2...|  8| 339|0.0235988...|1912|  4|6.1696107...|0.1455955...|\n",
      "|38b01b8b3...|        bach|2020-07-1...|  5| 236|0.0211864...|1912|  2|6.8627579...|0.1453974...|\n",
      "|999e5acc2...|anticonce...|2020-08-0...|  3| 156|0.0192307...|1912|  1|7.5559050...|0.1453058...|\n",
      "|c084f0fa8...|  newsletter|2020-04-2...|  1|  41|0.0243902...|1912|  5|5.9464671...|0.1450357...|\n",
      "|c084f0fa8...|  exclusivos|2020-04-2...|  1|  41|0.0243902...|1912|  5|5.9464671...|0.1450357...|\n",
      "|e8f3c6fa9...|      alfaro|2020-10-1...|  3| 109|0.0275229...|1912| 10|5.2533200...|0.1445867...|\n",
      "|2676bb312...|     linares|2020-01-0...|  8| 419|0.0190930...|1912|  1|7.5559050...|0.1442654...|\n",
      "|8cc41e0e4...|presenciales|2021-03-0...|  2|  62|0.0322580...|1912| 22|4.4648626...|0.1440278...|\n",
      "|59827c83a...|        spam|2020-10-0...|  1|  36|0.0277777...|1912| 11|5.1580098...|0.1432780...|\n",
      "|00c5986f8...|          5g|2020-01-0...| 37|1776|0.0208333...|1912|  2|6.8627579...|0.1429741...|\n",
      "|d94f7e7fc...|    cenapred|2020-01-1...|  2|  96|0.0208333...|1912|  2|6.8627579...|0.1429741...|\n",
      "|042ab148e...|       43610|2020-08-2...|  1|  53|0.0188679...|1912|  1|7.5559050...|0.1425642...|\n",
      "|042ab148e...|       84310|2020-08-2...|  1|  53|0.0188679...|1912|  1|7.5559050...|0.1425642...|\n",
      "|042ab148e...|        5974|2020-08-2...|  1|  53|0.0188679...|1912|  1|7.5559050...|0.1425642...|\n",
      "|042ab148e...|      591712|2020-08-2...|  1|  53|0.0188679...|1912|  1|7.5559050...|0.1425642...|\n",
      "|042ab148e...|       63819|2020-08-2...|  1|  53|0.0188679...|1912|  1|7.5559050...|0.1425642...|\n",
      "|0e635f07a...|       ojeda|2020-10-1...|  6| 231|0.0259740...|1912|  8|5.4764635...|0.1422458...|\n",
      "|5d2b74cfb...|   explosión|2020-01-0...|  3| 145|0.0206896...|1912|  2|6.8627579...|0.1419880...|\n",
      "|d00a10e29...|     cozumel|2020-02-2...|  3| 116|0.0258620...|1912|  8|5.4764635...|0.1416326...|\n",
      "|1a33d576e...|       pinos|2020-05-0...|  9| 437|0.0205949...|1912|  2|6.8627579...|0.1413382...|\n",
      "|6de27747d...|         mwc|2020-02-0...|  6| 293|0.0204778...|1912|  2|6.8627579...|0.1405342...|\n",
      "|a7f0dcd0a...|      office|2020-02-1...|  6| 265|0.0226415...|1912|  4|6.1696107...|0.1396892...|\n",
      "|5f714a437...|arrendami...|2020-01-1...|  6| 295|0.0203389...|1912|  2|6.8627579...|0.1395815...|\n",
      "|ba3cebaa3...|  elecciones|2020-10-1...|  4| 136|0.0294117...|1912| 17|4.7226917...|0.1389026...|\n",
      "|ff18d6ec6...|        ficm|2020-10-1...|  3| 164|0.0182926...|1912|  1|7.5559050...|0.1382177...|\n",
      "|9a17191db...|       color|2020-06-1...|  4|  78|0.0512820...|1912|130|2.6883706...|0.1378651...|\n",
      "|9adbd3d12...|     dióxido|2020-11-2...|  6| 329|0.0182370...|1912|  1|7.5559050...|0.1377976...|\n",
      "|70ce43668...| contagiarán|2020-04-0...|  1|  50|        0.02|1912|  2|6.8627579...|0.1372551...|\n",
      "|faf9cd6f6...|  extinguido|2020-01-0...|  2| 100|        0.02|1912|  2|6.8627579...|0.1372551...|\n",
      "|1f708a305...|trabajadoras|2020-05-2...|  7| 251|0.0278884...|1912| 14|4.9168477...|0.1371232...|\n",
      "|cfdcef63f...|      pueblo|2020-07-0...|  9| 241|0.0373443...|1912| 49|3.6640847...|0.1368330...|\n",
      "|38b01b8b3...|         coi|2020-07-1...|  5| 236|0.0211864...|1912|  3|6.4572928...|0.1368070...|\n",
      "|a808e7739...|    policías|2020-02-1...|  2|  71|0.0281690...|1912| 15|4.8478548...|0.1365592...|\n",
      "|dfc489b3b...|       tokyo|2020-03-2...|  7| 305|0.0229508...|1912|  5|5.9464671...|0.1364762...|\n",
      "|d483dae08...|      ceniza|2021-02-1...|  8| 379|0.0211081...|1912|  3|6.4572928...|0.1363016...|\n",
      "|b8a8ee1b5...|    whatsapp|2020-04-2...|  4| 149|0.0268456...|1912| 12|5.0709984...|0.1361341...|\n",
      "|c3e9a3c47...|    tormenta|2020-10-0...|  4| 203|0.0197044...|1912|  2|6.8627579...|0.1352267...|\n",
      "|d94f7e7fc...|popocatépetl|2020-01-1...|  2|  96|0.0208333...|1912|  3|6.4572928...|0.1345269...|\n",
      "|4c2151f6a...|    obesidad|2021-03-0...|  5| 130|0.0384615...|1912| 58|3.4954620...|0.1344408...|\n",
      "|3c6dc4f0d...|   manzanero|2020-12-1...|  4| 205|0.0195121...|1912|  2|6.8627579...|0.1339074...|\n",
      "|097ebf109...|   negativos|2020-04-2...| 32| 562|0.0569395...|1912|183|2.3464189...|0.1336039...|\n",
      "|e172053a6...|         teu|2020-02-1...|  5| 283|0.0176678...|1912|  1|7.5559050...|0.1334965...|\n",
      "|15a776f51...|   trillizos|2020-06-2...|  8| 412|0.0194174...|1912|  2|6.8627579...|0.1332574...|\n",
      "|557dda450...|      gibson|2020-07-2...|  4| 227|0.0176211...|1912|  1|7.5559050...|0.1331437...|\n",
      "|9b36735b7...| anticuerpos|2020-05-1...|  6| 148|0.0405405...|1912| 72|3.2792389...|0.1329421...|\n",
      "|57c89c4d7...| voluntarios|2020-11-1...|  9| 251|0.0358565...|1912| 47|3.7057574...|0.1328757...|\n",
      "|5a66ac894...|    maestros|2021-01-0...|  2|  69|0.0289855...|1912| 20|4.5601728...|0.1321789...|\n",
      "|0ecc64ce4...|      exceso|2020-09-0...|  6| 205|0.0292682...|1912| 21|4.5113826...|0.1320404...|\n",
      "|f6223c4d9...|       38888|2020-07-1...|  2| 104|0.0192307...|1912|  2|6.8627579...|0.1319761...|\n",
      "|46c0ca9b1...|       grado|2021-01-0...|  2|  67|0.0298507...|1912| 23|4.4204108...|0.1319525...|\n",
      "|594cfe430...|     salazar|2020-07-2...|  2|  98|0.0204081...|1912|  3|6.4572928...|0.1317814...|\n",
      "|3585c3b7a...|        kirk|2020-02-0...|  4| 230|0.0173913...|1912|  1|7.5559050...|0.1314070...|\n",
      "|c11fe632e...|   embajador|2020-06-2...|  2|  69|0.0289855...|1912| 21|4.5113826...|0.1307647...|\n",
      "|b15de9208...|    emisoras|2020-01-1...|  5| 263|0.0190114...|1912|  2|6.8627579...|0.1304706...|\n",
      "|d00a10e29...|rectifica...|2020-02-2...|  2| 116|0.0172413...|1912|  1|7.5559050...|0.1302742...|\n",
      "|d62293ae0...|inteligencia|2020-10-0...|  3| 112|0.0267857...|1912| 15|4.8478548...|0.1298532...|\n",
      "|e4b7cca4e...|       urnas|2020-07-1...|  4| 199|0.0201005...|1912|  3|6.4572928...|0.1297948...|\n",
      "|e568dddb1...|         cr7|2020-10-3...|  2| 117|0.0170940...|1912|  1|7.5559050...|0.1291607...|\n",
      "|e568dddb1...|     ronaldo|2020-10-3...|  2| 117|0.0170940...|1912|  1|7.5559050...|0.1291607...|\n",
      "|70ce43668...|       12500|2020-04-0...|  1|  50|        0.02|1912|  3|6.4572928...|0.1291458...|\n",
      "|377b116e8...|   negativos|2020-05-0...| 32| 582|0.0549828...|1912|183|2.3464189...|0.1290127...|\n",
      "|e390c1bc6...|arcelormi...|2020-07-2...|  4| 235|0.0170212...|1912|  1|7.5559050...|0.1286111...|\n",
      "|d94f7e7fc...|      volcán|2020-01-1...|  2|  96|0.0208333...|1912|  4|6.1696107...|0.1285335...|\n",
      "|50fd338b7...|desaprove...|2020-04-0...|  1|  59|0.0169491...|1912|  1|7.5559050...|0.1280661...|\n",
      "|5f714a437...|         tip|2020-01-1...|  5| 295|0.0169491...|1912|  1|7.5559050...|0.1280661...|\n",
      "|50fd338b7...| comunicarle|2020-04-0...|  1|  59|0.0169491...|1912|  1|7.5559050...|0.1280661...|\n",
      "|328fa2f43...|         nba|2020-06-2...|  4| 202|0.0198019...|1912|  3|6.4572928...|0.1278671...|\n",
      "|5d2b74cfb...|      volcán|2020-01-0...|  3| 145|0.0206896...|1912|  4|6.1696107...|0.1276471...|\n",
      "|042ab148e...|  reportados|2020-08-2...|  2|  53|0.0377358...|1912| 65|3.3815178...|0.1276044...|\n",
      "|46c0ca9b1...|     oxígeno|2021-01-0...|  2|  67|0.0298507...|1912| 27|4.2600682...|0.1271662...|\n",
      "|3df0a5486...|     cerveza|2020-04-0...| 14| 603|0.0232172...|1912|  8|5.4764635...|0.1271484...|\n",
      "|540d91b32...|       polvo|2020-06-2...|  7| 380|0.0184210...|1912|  2|6.8627579...|0.1264192...|\n",
      "|2676bb312...|       félix|2020-01-0...|  7| 419|0.0167064...|1912|  1|7.5559050...|0.1262323...|\n",
      "|a9bcc3fa9...|    raymundo|2020-07-1...|  5| 256|  0.01953125|1912|  3|6.4572928...|0.1261190...|\n",
      "|6acb89708...|  tropicales|2020-05-1...|  4| 218|0.0183486...|1912|  2|6.8627579...|0.1259221...|\n",
      "|06e41d9af...|     multará|2020-12-0...|  2| 109|0.0183486...|1912|  2|6.8627579...|0.1259221...|\n",
      "|19b52b5b8...|         mil|2021-02-1...| 20| 198|0.1010101...|1912|553|1.2405470...|0.1253077...|\n",
      "+------------+------------+------------+---+----+------------+----+---+------------+------------+\n",
      "only showing top 150 rows\n",
      "\n"
     ]
    }
   ],
   "source": [
    "article_tfidf.orderBy('tf_idf', ascending=False).show(150,truncate=12)"
   ]
  },
  {
   "cell_type": "code",
   "execution_count": 23,
   "id": "proud-eligibility",
   "metadata": {},
   "outputs": [],
   "source": [
    "w = Window.partitionBy('article_id').orderBy(col('tf_idf').desc())\n",
    "\n",
    "article_tfidf_top_15=article_tfidf.withColumn('rank', rank().over(w))\\\n",
    "    .where('rank <= 15')\\\n",
    "    .drop('rank')\\\n",
    "    .orderBy('article_id', 'tf_idf','n_w')\\\n",
    "    .select('article_id','publish_date','palabra','n_w','tf_idf')"
   ]
  },
  {
   "cell_type": "code",
   "execution_count": 24,
   "id": "immune-cherry",
   "metadata": {},
   "outputs": [
    {
     "name": "stdout",
     "output_type": "stream",
     "text": [
      "+------------+------------+------------+---+------------+\n",
      "|  article_id|publish_date|     palabra|n_w|      tf_idf|\n",
      "+------------+------------+------------+---+------------+\n",
      "|0030acce3...|2021-01-1...|      sector|  3|0.0153563...|\n",
      "|0030acce3...|2021-01-1...|   constante|  2|0.0158418...|\n",
      "|0030acce3...|2021-01-1...|        eran|  2|0.0158418...|\n",
      "|0030acce3...|2021-01-1...|     mayoría|  3|0.0165288...|\n",
      "|0030acce3...|2021-01-1...|profesion...|  2|0.0165435...|\n",
      "|0030acce3...|2021-01-1...|   empleados|  2|0.0166395...|\n",
      "|0030acce3...|2021-01-1...|represent...|  1|0.0168658...|\n",
      "|0030acce3...|2021-01-1...|transmisores|  1|0.0168658...|\n",
      "|0030acce3...|2021-01-1...| enfrentaban|  1|0.0168658...|\n",
      "|0030acce3...|2021-01-1...|corresponden|  2|0.0170456...|\n",
      "|0030acce3...|2021-01-1...|trabajadores|  4|0.0209990...|\n",
      "|0030acce3...|2021-01-1...|    personal|  5|0.0218469...|\n",
      "|0030acce3...|2021-01-1...|         580|  2|0.0222810...|\n",
      "|0030acce3...|2021-01-1...|  enfermería|  3|0.0290426...|\n",
      "|0030acce3...|2021-01-1...|      ciento|  9|0.0388102...|\n",
      "|00c5986f8...|2020-01-0...|   desplegar|  5|0.0167411...|\n",
      "|00c5986f8...|2020-01-0...| penetración|  4|0.0170178...|\n",
      "|00c5986f8...|2020-01-0...|         ghz|  4|0.0170178...|\n",
      "|00c5986f8...|2020-01-0...|     carrier|  4|0.0170178...|\n",
      "|00c5986f8...|2020-01-0...|        fija|  5|0.0173693...|\n",
      "|00c5986f8...|2020-01-0...|      telcel|  5|0.0173693...|\n",
      "|00c5986f8...|2020-01-0...|       fibra|  5|0.0212722...|\n",
      "|00c5986f8...|2020-01-0...|       ancho|  5|0.0212722...|\n",
      "|00c5986f8...|2020-01-0...|         att|  6|0.0218151...|\n",
      "|00c5986f8...|2020-01-0...|      bandas|  6|0.0255267...|\n",
      "|00c5986f8...|2020-01-0...|          4g|  7|0.0297811...|\n",
      "|00c5986f8...|2020-01-0...|  operadores| 11|0.0325374...|\n",
      "|00c5986f8...|2020-01-0...|       ancha|  8|0.0340356...|\n",
      "|00c5986f8...|2020-01-0...|       banda| 16|0.0505404...|\n",
      "|00c5986f8...|2020-01-0...|          5g| 37|0.1429741...|\n",
      "+------------+------------+------------+---+------------+\n",
      "only showing top 30 rows\n",
      "\n"
     ]
    }
   ],
   "source": [
    "article_tfidf_top_15.show(truncate=12, n=30)"
   ]
  },
  {
   "cell_type": "code",
   "execution_count": 26,
   "id": "moral-flexibility",
   "metadata": {},
   "outputs": [],
   "source": [
    "article_tfidf_top_15_site = article_tfidf_top_15.join(df_news_covid_mexico_date_text, ['article_id','publish_date']).select('article_id','publish_date','site','palabra','n_w','tf_idf')"
   ]
  },
  {
   "cell_type": "code",
   "execution_count": 27,
   "id": "seven-regard",
   "metadata": {},
   "outputs": [
    {
     "name": "stdout",
     "output_type": "stream",
     "text": [
      "+--------------------+-------------------+--------------------+-----------+---+--------------------+\n",
      "|          article_id|       publish_date|                site|    palabra|n_w|              tf_idf|\n",
      "+--------------------+-------------------+--------------------+-----------+---+--------------------+\n",
      "|082df15321be3547d...|2020-09-25 00:00:00|politica.expansio...| acumularon|  2| 0.08556067886585966|\n",
      "|082df15321be3547d...|2020-09-25 00:00:00|politica.expansio...|       5023|  1| 0.05435902945044134|\n",
      "|082df15321be3547d...|2020-09-25 00:00:00|politica.expansio...|      11208|  1| 0.05435902945044134|\n",
      "|082df15321be3547d...|2020-09-25 00:00:00|politica.expansio...|      52477|  1| 0.05435902945044134|\n",
      "|082df15321be3547d...|2020-09-25 00:00:00|politica.expansio...|  apoyarlos|  1| 0.05435902945044134|\n",
      "|082df15321be3547d...|2020-09-25 00:00:00|politica.expansio...|      23365|  1| 0.05435902945044134|\n",
      "|082df15321be3547d...|2020-09-25 00:00:00|politica.expansio...|     518204|  1| 0.04937235908670073|\n",
      "|082df15321be3547d...|2020-09-25 00:00:00|politica.expansio...|       5401|  1| 0.04937235908670073|\n",
      "|082df15321be3547d...|2020-09-25 00:00:00|politica.expansio...|       8509|  1|0.046455343920454945|\n",
      "|082df15321be3547d...|2020-09-25 00:00:00|politica.expansio...|       2699|  1| 0.04438568872296012|\n",
      "|082df15321be3547d...|2020-09-25 00:00:00|politica.expansio...|     720858|  1| 0.04438568872296012|\n",
      "|082df15321be3547d...|2020-09-25 00:00:00|politica.expansio...|   enfermar|  1| 0.03939901835921951|\n",
      "|082df15321be3547d...|2020-09-25 00:00:00|politica.expansio...|      motor|  1| 0.03487665390294343|\n",
      "|082df15321be3547d...|2020-09-25 00:00:00|politica.expansio...|recopilados|  1|0.032806998705448606|\n",
      "|082df15321be3547d...|2020-09-25 00:00:00|politica.expansio...|  agregaron|  1| 0.03245599033012895|\n",
      "+--------------------+-------------------+--------------------+-----------+---+--------------------+\n",
      "only showing top 15 rows\n",
      "\n"
     ]
    }
   ],
   "source": [
    "article_tfidf_top_15_site.show(15)"
   ]
  },
  {
   "cell_type": "code",
   "execution_count": 28,
   "id": "every-lawrence",
   "metadata": {},
   "outputs": [],
   "source": [
    "article_tfidf_top_15_site.write.jdbc(url=url, table=\"tb_news_covid_mexico_palabras_top_tfidf\", mode=mode, properties=properties)"
   ]
  },
  {
   "cell_type": "code",
   "execution_count": null,
   "id": "operational-pakistan",
   "metadata": {},
   "outputs": [],
   "source": []
  }
 ],
 "metadata": {
  "kernelspec": {
   "display_name": "Python 3",
   "language": "python",
   "name": "python3"
  },
  "language_info": {
   "codemirror_mode": {
    "name": "ipython",
    "version": 3
   },
   "file_extension": ".py",
   "mimetype": "text/x-python",
   "name": "python",
   "nbconvert_exporter": "python",
   "pygments_lexer": "ipython3",
   "version": "3.8.8"
  }
 },
 "nbformat": 4,
 "nbformat_minor": 5
}
